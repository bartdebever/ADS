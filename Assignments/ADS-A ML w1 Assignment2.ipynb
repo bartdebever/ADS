{
 "cells": [
  {
   "cell_type": "markdown",
   "metadata": {},
   "source": [
    "*ADS-A Week 1 Assignment 2*\n",
    "\n",
    "# Pandas Exercises"
   ]
  },
  {
   "cell_type": "markdown",
   "metadata": {},
   "source": [
    "### Introduction\n",
    "[Pandas](http://pandas.pydata.org/) is a software library written for the Python programming language for data manipulation and analysis. It is built on NumPy. In particular, it offers data structures and operations for manipulating numerical tables and (time) series. The name is derived from the term \"panel data\", an econometrics term for multidimensional, structured data sets. Central in pandas are the data objects Series (indexed arrays) and DataFrames (full fledged tables). Many NumPy array indexing techniques can be used in the same way when indexing pandas arrays and series.\n",
    "\n",
    "Pandas is well suited to do data preparation that is to be analysed with scikit-learn models. This is the main reason to familiarize ourselves with pandas. In most publicly available data machine learning notebooks pandas (or NumPy) is used to do the initial preparation. Pandas offer excellent tools to get data from CSV files, Excel files and databases. It also incorporates SQL-like manipulation of DataFrames."
   ]
  },
  {
   "cell_type": "code",
   "execution_count": null,
   "metadata": {
    "collapsed": true
   },
   "outputs": [],
   "source": [
    "import pandas as pd\n",
    "import numpy as np\n",
    "\n",
    "# Set some pandas options\n",
    "pd.set_option('display.notebook_repr_html', False)\n",
    "pd.set_option('display.max_columns', 5)\n",
    "pd.set_option('display.max_rows', 5)"
   ]
  },
  {
   "cell_type": "markdown",
   "metadata": {},
   "source": [
    "### Creating Series"
   ]
  },
  {
   "cell_type": "code",
   "execution_count": null,
   "metadata": {
    "collapsed": true
   },
   "outputs": [],
   "source": [
    "# Create a pandas Series for the number list [10..20) ...\n",
    "pd.Series(range(10, 20))\n",
    "\n",
    "# Alternative\n",
    "pd.Series(np.arange(10, 20))"
   ]
  },
  {
   "cell_type": "code",
   "execution_count": 38,
   "metadata": {},
   "outputs": [
    {
     "name": "stdout",
     "output_type": "stream",
     "text": [
      "0    10\n",
      "1    11\n",
      "2    12\n",
      "3    13\n",
      "4    14\n",
      "5    15\n",
      "6    16\n",
      "7    17\n",
      "8    18\n",
      "9    19\n",
      "dtype: int32\n",
      "a    10\n",
      "b    11\n",
      "c    12\n",
      "d    13\n",
      "e    14\n",
      "f    15\n",
      "g    16\n",
      "h    17\n",
      "i    18\n",
      "j    19\n",
      "dtype: int32\n",
      "RangeIndex(start=0, stop=10, step=1)\n",
      "Index(['a', 'b', 'c', 'd', 'e', 'f', 'g', 'h', 'i', 'j'], dtype='object')\n"
     ]
    }
   ],
   "source": [
    "s1 = pd.Series(range(10, 20))\n",
    "s2 = pd.Series(range(10, 20), index=list('abcdefghij'))\n",
    "\n",
    "print(s1)\n",
    "print(s2)\n",
    "\n",
    "# Get the index of both Series \n",
    "\n",
    "## Your code ...\n",
    "print(s1.index)\n",
    "print(s2.index)"
   ]
  },
  {
   "cell_type": "code",
   "execution_count": 77,
   "metadata": {},
   "outputs": [
    {
     "data": {
      "text/plain": [
       "0   -1.726199\n",
       "1   -0.455465\n",
       "2    0.327986\n",
       "3    0.467831\n",
       "4   -1.462368\n",
       "5    0.348446\n",
       "6    0.191710\n",
       "7   -0.282348\n",
       "8   -1.218600\n",
       "9    1.580617\n",
       "dtype: float64"
      ]
     },
     "execution_count": 77,
     "metadata": {},
     "output_type": "execute_result"
    }
   ],
   "source": [
    "# Create a Series of 10 random numbers\n",
    "\n",
    "## Your code ...\n",
    "import pandas as pd\n",
    "import numpy as np\n",
    "import random\n",
    "pd.Series(randn(10))"
   ]
  },
  {
   "cell_type": "code",
   "execution_count": null,
   "metadata": {
    "collapsed": true
   },
   "outputs": [],
   "source": [
    "# Create a Series of 15 numbers equally spaced over the range [20..60]\n",
    "\n",
    "## Your code ...\n"
   ]
  },
  {
   "cell_type": "code",
   "execution_count": 86,
   "metadata": {},
   "outputs": [
    {
     "name": "stdout",
     "output_type": "stream",
     "text": [
      "a    0\n",
      "b    1\n",
      "c    2\n",
      "d    3\n",
      "e    4\n",
      "f    5\n",
      "dtype: int64\n",
      "a    0\n",
      "b    1\n",
      "c    2\n",
      "d    3\n",
      "e    4\n",
      "f    5\n",
      "dtype: int32\n"
     ]
    }
   ],
   "source": [
    "a = pd.Series(range(6), index=list('abcdef'))\n",
    "\n",
    "# Create the above Series from a dict\n",
    "\n",
    "## Your code ...\n",
    "li = list('abcdef')\n",
    "lv = [0,1,2,3,4,5]\n",
    "d = dict(zip(li, lv))\n",
    "s = pd.Series(d)\n",
    "print(s)\n",
    "print(a)"
   ]
  },
  {
   "cell_type": "markdown",
   "metadata": {},
   "source": [
    "### Getting and Setting Series Data "
   ]
  },
  {
   "cell_type": "code",
   "execution_count": 88,
   "metadata": {},
   "outputs": [
    {
     "name": "stdout",
     "output_type": "stream",
     "text": [
      "0    10\n",
      "1    11\n",
      "2    12\n",
      "3    10\n",
      "4    14\n",
      "5    15\n",
      "6    16\n",
      "7    17\n",
      "8    18\n",
      "9    19\n",
      "dtype: int32\n"
     ]
    }
   ],
   "source": [
    "s1 = pd.Series(range(10, 20))\n",
    "# Get the value on position 3 (value of 4th element). \n",
    "\n",
    "## Your code ...\n",
    "s1[3] = 10\n",
    "print(s1)"
   ]
  },
  {
   "cell_type": "code",
   "execution_count": 90,
   "metadata": {},
   "outputs": [
    {
     "name": "stdout",
     "output_type": "stream",
     "text": [
      "12\n",
      "a    10\n",
      "b    11\n",
      "c    12\n",
      "d    13\n",
      "e    14\n",
      "f    15\n",
      "g    16\n",
      "h    17\n",
      "i    18\n",
      "j    19\n",
      "dtype: int32\n"
     ]
    }
   ],
   "source": [
    "s2 = pd.Series(range(10, 20), index=list('abcdefghij'))\n",
    "# Get value labeled 'c'\n",
    "\n",
    "## Your code ...\n",
    "print(s2['c'])\n",
    "print(s2)"
   ]
  },
  {
   "cell_type": "code",
   "execution_count": 95,
   "metadata": {},
   "outputs": [
    {
     "name": "stdout",
     "output_type": "stream",
     "text": [
      "TextualLabel\n"
     ]
    }
   ],
   "source": [
    "# Show that you can also use a textual label as an attribute (s2.label)\n",
    "\n",
    "## Your code ...\n",
    "s2.label = 'TextualLabel'\n",
    "print(s2.label)"
   ]
  },
  {
   "cell_type": "code",
   "execution_count": 96,
   "metadata": {},
   "outputs": [
    {
     "ename": "KeyError",
     "evalue": "0",
     "output_type": "error",
     "traceback": [
      "\u001b[1;31m---------------------------------------------------------------------------\u001b[0m",
      "\u001b[1;31mKeyError\u001b[0m                                  Traceback (most recent call last)",
      "\u001b[1;32m<ipython-input-96-97e9a3a924f0>\u001b[0m in \u001b[0;36m<module>\u001b[1;34m()\u001b[0m\n\u001b[0;32m      1\u001b[0m \u001b[1;31m# Note that default index are lost once you have passed an explicit numeric index\u001b[0m\u001b[1;33m\u001b[0m\u001b[1;33m\u001b[0m\u001b[0m\n\u001b[0;32m      2\u001b[0m \u001b[0ms2\u001b[0m \u001b[1;33m=\u001b[0m \u001b[0mpd\u001b[0m\u001b[1;33m.\u001b[0m\u001b[0mSeries\u001b[0m\u001b[1;33m(\u001b[0m\u001b[0mrange\u001b[0m\u001b[1;33m(\u001b[0m\u001b[1;36m10\u001b[0m\u001b[1;33m,\u001b[0m \u001b[1;36m20\u001b[0m\u001b[1;33m)\u001b[0m\u001b[1;33m,\u001b[0m \u001b[0mindex\u001b[0m\u001b[1;33m=\u001b[0m\u001b[0mrange\u001b[0m\u001b[1;33m(\u001b[0m\u001b[1;36m100\u001b[0m\u001b[1;33m,\u001b[0m \u001b[1;36m110\u001b[0m\u001b[1;33m)\u001b[0m\u001b[1;33m)\u001b[0m\u001b[1;33m\u001b[0m\u001b[0m\n\u001b[1;32m----> 3\u001b[1;33m \u001b[0ms2\u001b[0m\u001b[1;33m[\u001b[0m\u001b[1;36m0\u001b[0m\u001b[1;33m]\u001b[0m      \u001b[1;31m# throws key error\u001b[0m\u001b[1;33m\u001b[0m\u001b[0m\n\u001b[0m",
      "\u001b[1;32mC:\\Users\\Gebruiker\\Anaconda3\\lib\\site-packages\\pandas\\core\\series.py\u001b[0m in \u001b[0;36m__getitem__\u001b[1;34m(self, key)\u001b[0m\n\u001b[0;32m    599\u001b[0m         \u001b[0mkey\u001b[0m \u001b[1;33m=\u001b[0m \u001b[0mcom\u001b[0m\u001b[1;33m.\u001b[0m\u001b[0m_apply_if_callable\u001b[0m\u001b[1;33m(\u001b[0m\u001b[0mkey\u001b[0m\u001b[1;33m,\u001b[0m \u001b[0mself\u001b[0m\u001b[1;33m)\u001b[0m\u001b[1;33m\u001b[0m\u001b[0m\n\u001b[0;32m    600\u001b[0m         \u001b[1;32mtry\u001b[0m\u001b[1;33m:\u001b[0m\u001b[1;33m\u001b[0m\u001b[0m\n\u001b[1;32m--> 601\u001b[1;33m             \u001b[0mresult\u001b[0m \u001b[1;33m=\u001b[0m \u001b[0mself\u001b[0m\u001b[1;33m.\u001b[0m\u001b[0mindex\u001b[0m\u001b[1;33m.\u001b[0m\u001b[0mget_value\u001b[0m\u001b[1;33m(\u001b[0m\u001b[0mself\u001b[0m\u001b[1;33m,\u001b[0m \u001b[0mkey\u001b[0m\u001b[1;33m)\u001b[0m\u001b[1;33m\u001b[0m\u001b[0m\n\u001b[0m\u001b[0;32m    602\u001b[0m \u001b[1;33m\u001b[0m\u001b[0m\n\u001b[0;32m    603\u001b[0m             \u001b[1;32mif\u001b[0m \u001b[1;32mnot\u001b[0m \u001b[0mis_scalar\u001b[0m\u001b[1;33m(\u001b[0m\u001b[0mresult\u001b[0m\u001b[1;33m)\u001b[0m\u001b[1;33m:\u001b[0m\u001b[1;33m\u001b[0m\u001b[0m\n",
      "\u001b[1;32mC:\\Users\\Gebruiker\\Anaconda3\\lib\\site-packages\\pandas\\core\\indexes\\base.py\u001b[0m in \u001b[0;36mget_value\u001b[1;34m(self, series, key)\u001b[0m\n\u001b[0;32m   2426\u001b[0m         \u001b[1;32mtry\u001b[0m\u001b[1;33m:\u001b[0m\u001b[1;33m\u001b[0m\u001b[0m\n\u001b[0;32m   2427\u001b[0m             return self._engine.get_value(s, k,\n\u001b[1;32m-> 2428\u001b[1;33m                                           tz=getattr(series.dtype, 'tz', None))\n\u001b[0m\u001b[0;32m   2429\u001b[0m         \u001b[1;32mexcept\u001b[0m \u001b[0mKeyError\u001b[0m \u001b[1;32mas\u001b[0m \u001b[0me1\u001b[0m\u001b[1;33m:\u001b[0m\u001b[1;33m\u001b[0m\u001b[0m\n\u001b[0;32m   2430\u001b[0m             \u001b[1;32mif\u001b[0m \u001b[0mlen\u001b[0m\u001b[1;33m(\u001b[0m\u001b[0mself\u001b[0m\u001b[1;33m)\u001b[0m \u001b[1;33m>\u001b[0m \u001b[1;36m0\u001b[0m \u001b[1;32mand\u001b[0m \u001b[0mself\u001b[0m\u001b[1;33m.\u001b[0m\u001b[0minferred_type\u001b[0m \u001b[1;32min\u001b[0m \u001b[1;33m[\u001b[0m\u001b[1;34m'integer'\u001b[0m\u001b[1;33m,\u001b[0m \u001b[1;34m'boolean'\u001b[0m\u001b[1;33m]\u001b[0m\u001b[1;33m:\u001b[0m\u001b[1;33m\u001b[0m\u001b[0m\n",
      "\u001b[1;32mpandas\\_libs\\index.pyx\u001b[0m in \u001b[0;36mpandas._libs.index.IndexEngine.get_value (pandas\\_libs\\index.c:4363)\u001b[1;34m()\u001b[0m\n",
      "\u001b[1;32mpandas\\_libs\\index.pyx\u001b[0m in \u001b[0;36mpandas._libs.index.IndexEngine.get_value (pandas\\_libs\\index.c:4046)\u001b[1;34m()\u001b[0m\n",
      "\u001b[1;32mpandas\\_libs\\index.pyx\u001b[0m in \u001b[0;36mpandas._libs.index.IndexEngine.get_loc (pandas\\_libs\\index.c:5085)\u001b[1;34m()\u001b[0m\n",
      "\u001b[1;32mpandas\\_libs\\hashtable_class_helper.pxi\u001b[0m in \u001b[0;36mpandas._libs.hashtable.Int64HashTable.get_item (pandas\\_libs\\hashtable.c:13913)\u001b[1;34m()\u001b[0m\n",
      "\u001b[1;32mpandas\\_libs\\hashtable_class_helper.pxi\u001b[0m in \u001b[0;36mpandas._libs.hashtable.Int64HashTable.get_item (pandas\\_libs\\hashtable.c:13857)\u001b[1;34m()\u001b[0m\n",
      "\u001b[1;31mKeyError\u001b[0m: 0"
     ]
    }
   ],
   "source": [
    "# Note that default index are lost once you have passed an explicit numeric index\n",
    "s2 = pd.Series(range(10, 20), index=range(100, 110))\n",
    "s2[0]      # throws key error"
   ]
  },
  {
   "cell_type": "code",
   "execution_count": null,
   "metadata": {
    "collapsed": true
   },
   "outputs": [],
   "source": [
    "# To avoid this confusion explicit label lookup (loc) and default position lookup (iloc) have been defined:\n",
    "s2[101] == s2.loc[101] == s2.iloc[1]"
   ]
  },
  {
   "cell_type": "code",
   "execution_count": 101,
   "metadata": {},
   "outputs": [
    {
     "name": "stdout",
     "output_type": "stream",
     "text": [
      "0     NaN\n",
      "1    11.0\n",
      "2     NaN\n",
      "3    13.0\n",
      "4     NaN\n",
      "5    15.0\n",
      "6     NaN\n",
      "7    17.0\n",
      "8     NaN\n",
      "9    19.0\n",
      "dtype: float64\n"
     ]
    }
   ],
   "source": [
    "s = pd.Series(range(10, 20))\n",
    "# Set every second value in the series to NaN (Not a Number, NumPy's version of void or null)\n",
    "\n",
    "## Your code ...\n",
    "for num in range(0,len(s)):\n",
    "    if(num%2 == 0):\n",
    "        s.iloc[num] = np.nan\n",
    "print(s)"
   ]
  },
  {
   "cell_type": "markdown",
   "metadata": {},
   "source": [
    "### Boolean Selection or Masking"
   ]
  },
  {
   "cell_type": "code",
   "execution_count": 40,
   "metadata": {},
   "outputs": [
    {
     "data": {
      "text/plain": [
       "0    10\n",
       "2    12\n",
       "4    14\n",
       "6    16\n",
       "8    18\n",
       "dtype: int32"
      ]
     },
     "execution_count": 40,
     "metadata": {},
     "output_type": "execute_result"
    }
   ],
   "source": [
    "s = pd.Series(range(10, 20))\n",
    "# Get rows with even values\n",
    "s[s%2 == 0]"
   ]
  },
  {
   "cell_type": "code",
   "execution_count": 44,
   "metadata": {},
   "outputs": [
    {
     "name": "stdout",
     "output_type": "stream",
     "text": [
      "0    10\n",
      "2    12\n",
      "4    14\n",
      "5    15\n",
      "6    16\n",
      "8    18\n",
      "dtype: int32\n"
     ]
    }
   ],
   "source": [
    "s = pd.Series(range(10, 20))\n",
    "# Get rows that can be either divided by 2 or by 3\n",
    "# Use parenthesis and &, | and ! as boolean operators (same as in NumPy)\n",
    "\n",
    "## Your code ...\n",
    "s1 = s[(s%2 == 0) | (s%3 == 0)]\n",
    "print(s1)"
   ]
  },
  {
   "cell_type": "code",
   "execution_count": 46,
   "metadata": {},
   "outputs": [
    {
     "name": "stdout",
     "output_type": "stream",
     "text": [
      "0    10\n",
      "1    12\n",
      "2    14\n",
      "3    15\n",
      "4    16\n",
      "5    18\n",
      "dtype: int32\n"
     ]
    }
   ],
   "source": [
    "# Re-index s1 so as to have a decent index again (starting with 0 and increment by 1 for each new entry)\n",
    "\n",
    "## Your code ...\n",
    "s1.index = range(0, len(s1))\n",
    "print(s1)"
   ]
  },
  {
   "cell_type": "markdown",
   "metadata": {},
   "source": [
    "There's a lot more to Series. Consult the online documentation if you run into an unknown construction in some of the code you are studying!"
   ]
  },
  {
   "cell_type": "markdown",
   "metadata": {},
   "source": [
    "### Creating DataFrames\n",
    "DataFrames are 2 dimensional arrays with row and column labels. You can construct them from any 2 dimensional structure you might expect."
   ]
  },
  {
   "cell_type": "code",
   "execution_count": 11,
   "metadata": {},
   "outputs": [
    {
     "data": {
      "text/html": [
       "<div>\n",
       "<style>\n",
       "    .dataframe thead tr:only-child th {\n",
       "        text-align: right;\n",
       "    }\n",
       "\n",
       "    .dataframe thead th {\n",
       "        text-align: left;\n",
       "    }\n",
       "\n",
       "    .dataframe tbody tr th {\n",
       "        vertical-align: top;\n",
       "    }\n",
       "</style>\n",
       "<table border=\"1\" class=\"dataframe\">\n",
       "  <thead>\n",
       "    <tr style=\"text-align: right;\">\n",
       "      <th></th>\n",
       "      <th>0</th>\n",
       "      <th>1</th>\n",
       "    </tr>\n",
       "  </thead>\n",
       "  <tbody>\n",
       "    <tr>\n",
       "      <th>0</th>\n",
       "      <td>1</td>\n",
       "      <td>2</td>\n",
       "    </tr>\n",
       "    <tr>\n",
       "      <th>1</th>\n",
       "      <td>3</td>\n",
       "      <td>4</td>\n",
       "    </tr>\n",
       "  </tbody>\n",
       "</table>\n",
       "</div>"
      ],
      "text/plain": [
       "   0  1\n",
       "0  1  2\n",
       "1  3  4"
      ]
     },
     "execution_count": 11,
     "metadata": {},
     "output_type": "execute_result"
    }
   ],
   "source": [
    "# Construct a pandas dataframe from a list of lists\n",
    "pd.DataFrame([[1,2], [3,4]])"
   ]
  },
  {
   "cell_type": "code",
   "execution_count": 12,
   "metadata": {},
   "outputs": [
    {
     "data": {
      "text/html": [
       "<div>\n",
       "<style>\n",
       "    .dataframe thead tr:only-child th {\n",
       "        text-align: right;\n",
       "    }\n",
       "\n",
       "    .dataframe thead th {\n",
       "        text-align: left;\n",
       "    }\n",
       "\n",
       "    .dataframe tbody tr th {\n",
       "        vertical-align: top;\n",
       "    }\n",
       "</style>\n",
       "<table border=\"1\" class=\"dataframe\">\n",
       "  <thead>\n",
       "    <tr style=\"text-align: right;\">\n",
       "      <th></th>\n",
       "      <th>a</th>\n",
       "      <th>b</th>\n",
       "      <th>c</th>\n",
       "      <th>d</th>\n",
       "    </tr>\n",
       "  </thead>\n",
       "  <tbody>\n",
       "    <tr>\n",
       "      <th>0</th>\n",
       "      <td>0.887523</td>\n",
       "      <td>0.784710</td>\n",
       "      <td>0.214034</td>\n",
       "      <td>0.757618</td>\n",
       "    </tr>\n",
       "    <tr>\n",
       "      <th>1</th>\n",
       "      <td>0.419067</td>\n",
       "      <td>0.872147</td>\n",
       "      <td>0.988521</td>\n",
       "      <td>0.698696</td>\n",
       "    </tr>\n",
       "    <tr>\n",
       "      <th>2</th>\n",
       "      <td>0.987546</td>\n",
       "      <td>0.356123</td>\n",
       "      <td>0.062066</td>\n",
       "      <td>0.004783</td>\n",
       "    </tr>\n",
       "  </tbody>\n",
       "</table>\n",
       "</div>"
      ],
      "text/plain": [
       "          a         b         c         d\n",
       "0  0.887523  0.784710  0.214034  0.757618\n",
       "1  0.419067  0.872147  0.988521  0.698696\n",
       "2  0.987546  0.356123  0.062066  0.004783"
      ]
     },
     "execution_count": 12,
     "metadata": {},
     "output_type": "execute_result"
    }
   ],
   "source": [
    "# Yet another variant\n",
    "pd.DataFrame(np.array(np.random.rand(12)).reshape(3,4), columns = list('abcd'))"
   ]
  },
  {
   "cell_type": "code",
   "execution_count": 22,
   "metadata": {},
   "outputs": [
    {
     "name": "stdout",
     "output_type": "stream",
     "text": [
      "[[None 0 1]\n",
      " [0 1 3]\n",
      " [1 2 4]]\n"
     ]
    },
    {
     "data": {
      "text/html": [
       "<div>\n",
       "<style>\n",
       "    .dataframe thead tr:only-child th {\n",
       "        text-align: right;\n",
       "    }\n",
       "\n",
       "    .dataframe thead th {\n",
       "        text-align: left;\n",
       "    }\n",
       "\n",
       "    .dataframe tbody tr th {\n",
       "        vertical-align: top;\n",
       "    }\n",
       "</style>\n",
       "<table border=\"1\" class=\"dataframe\">\n",
       "  <thead>\n",
       "    <tr style=\"text-align: right;\">\n",
       "      <th></th>\n",
       "      <th>0</th>\n",
       "      <th>1</th>\n",
       "      <th>2</th>\n",
       "    </tr>\n",
       "  </thead>\n",
       "  <tbody>\n",
       "    <tr>\n",
       "      <th>0</th>\n",
       "      <td>None</td>\n",
       "      <td>0</td>\n",
       "      <td>1</td>\n",
       "    </tr>\n",
       "    <tr>\n",
       "      <th>1</th>\n",
       "      <td>0</td>\n",
       "      <td>1</td>\n",
       "      <td>3</td>\n",
       "    </tr>\n",
       "    <tr>\n",
       "      <th>2</th>\n",
       "      <td>1</td>\n",
       "      <td>2</td>\n",
       "      <td>4</td>\n",
       "    </tr>\n",
       "  </tbody>\n",
       "</table>\n",
       "</div>"
      ],
      "text/plain": [
       "      0  1  2\n",
       "0  None  0  1\n",
       "1     0  1  3\n",
       "2     1  2  4"
      ]
     },
     "execution_count": 22,
     "metadata": {},
     "output_type": "execute_result"
    }
   ],
   "source": [
    "# Construct the dataframe \n",
    "#      0  1\n",
    "#   0  1  2\n",
    "#   1  3  4\n",
    "# from a NumPy array\n",
    "\n",
    "## Your code ...\n",
    "ar = np.array([None,0,1,0,1,3,1,2,4]).reshape(3,3)\n",
    "print(ar)\n",
    "pd.DataFrame(ar)"
   ]
  },
  {
   "cell_type": "code",
   "execution_count": 55,
   "metadata": {},
   "outputs": [
    {
     "name": "stdout",
     "output_type": "stream",
     "text": [
      "    1  2\n",
      "0  10  0\n",
      "1  11  1\n",
      "2  12  2\n",
      "3  13  3\n",
      "4  14  4\n",
      "5  15  5\n",
      "6  16  6\n",
      "7  17  7\n",
      "8  18  8\n",
      "9  19  9\n"
     ]
    }
   ],
   "source": [
    "# Construct a dataframe from 2 or more Series; Series should be equal sized; each Series will be a row\n",
    "\n",
    "## Your code ...\n",
    "s1 = pd.Series(range(10, 20))\n",
    "s2 = pd.Series(range(0, 10))\n",
    "df = pd.DataFrame({'1':s1, '2':s2})\n",
    "print(df)"
   ]
  },
  {
   "cell_type": "code",
   "execution_count": 73,
   "metadata": {},
   "outputs": [
    {
     "name": "stdout",
     "output_type": "stream",
     "text": [
      "         x  y\n",
      "2014   aap  1\n",
      "2015  noot  2\n"
     ]
    }
   ],
   "source": [
    "# Create the dataframe\n",
    "#           y     x\n",
    "#     2014  1   aap\n",
    "#     2015  2  noot\n",
    "# from the Python dict data. \n",
    "data = {'y': [1,2], 'x':[\"aap\", \"noot\"]}\n",
    "\n",
    "## Your code ...\n",
    "df = pd.DataFrame(data)\n",
    "df.index = range(2014,2016)\n",
    "df.columns = ['x','y']\n",
    "#df.rename(columns={'x': 'y', 'y': 'x'}, inplace=True)\n",
    "print(df)"
   ]
  },
  {
   "cell_type": "code",
   "execution_count": 3,
   "metadata": {
    "scrolled": false
   },
   "outputs": [
    {
     "ename": "NameError",
     "evalue": "name 'pd' is not defined",
     "output_type": "error",
     "traceback": [
      "\u001b[1;31m---------------------------------------------------------------------------\u001b[0m",
      "\u001b[1;31mNameError\u001b[0m                                 Traceback (most recent call last)",
      "\u001b[1;32m<ipython-input-3-8c412bd19822>\u001b[0m in \u001b[0;36m<module>\u001b[1;34m()\u001b[0m\n\u001b[0;32m      9\u001b[0m \u001b[1;32mfrom\u001b[0m \u001b[0mnumpy\u001b[0m\u001b[1;33m.\u001b[0m\u001b[0mrandom\u001b[0m \u001b[1;32mimport\u001b[0m \u001b[0mrandn\u001b[0m\u001b[1;33m\u001b[0m\u001b[0m\n\u001b[0;32m     10\u001b[0m \u001b[0mli\u001b[0m \u001b[1;33m=\u001b[0m \u001b[1;33m[\u001b[0m\u001b[1;34m'Ajax'\u001b[0m\u001b[1;33m,\u001b[0m \u001b[1;34m'Feyenoord'\u001b[0m\u001b[1;33m,\u001b[0m \u001b[1;34m'PSV'\u001b[0m\u001b[1;33m]\u001b[0m\u001b[1;33m\u001b[0m\u001b[0m\n\u001b[1;32m---> 11\u001b[1;33m \u001b[0mdf\u001b[0m \u001b[1;33m=\u001b[0m \u001b[0mpd\u001b[0m\u001b[1;33m.\u001b[0m\u001b[0mDataFrame\u001b[0m\u001b[1;33m(\u001b[0m\u001b[1;33m)\u001b[0m\u001b[1;33m\u001b[0m\u001b[0m\n\u001b[0m\u001b[0;32m     12\u001b[0m \u001b[0mdf\u001b[0m\u001b[1;33m\u001b[0m\u001b[0m\n",
      "\u001b[1;31mNameError\u001b[0m: name 'pd' is not defined"
     ]
    }
   ],
   "source": [
    "# Create the dataframe \n",
    "#            Ajax  Feyenoord  PSV\n",
    "# Ajax        NaN        1.0  3.0\n",
    "# Feyenoord   1.0        NaN  1.0\n",
    "# PSV         2.0        1.0  NaN\n",
    "# from scratch. Randomize the numbers of points for each game.\n",
    "\n",
    "## Your code ...\n",
    "from numpy.random import randn\n",
    "li = ['Ajax', 'Feyenoord', 'PSV']\n",
    "random.randint(1, 3) #random not seeing to work for me\n",
    "df = pd.DataFrame()\n",
    "df"
   ]
  },
  {
   "cell_type": "code",
   "execution_count": null,
   "metadata": {
    "collapsed": true
   },
   "outputs": [],
   "source": [
    "# Can you find a random seed that makes PSV champion? \n",
    "# ... or, quite challenging, can you create code to generate the final competiton table (nr of point for each club)\n",
    "\n",
    "## Your code ...\n"
   ]
  },
  {
   "cell_type": "markdown",
   "metadata": {},
   "source": [
    "### Getting and Setting Data from and to DataFrames\n",
    "The []-operator on DataFrames is heavily overloaded, it works as follows:\n",
    "- If the parameter within [] is a single value, it always identifies a single row/column and it returns a Series object.\n",
    "- If the parameter within [] is a slicer object, it always identifies a set of rows/columns and it returns a DataFrame object."
   ]
  },
  {
   "cell_type": "code",
   "execution_count": 122,
   "metadata": {},
   "outputs": [
    {
     "name": "stdout",
     "output_type": "stream",
     "text": [
      "2014    0\n",
      "2015    3\n",
      "Name: AMS, dtype: int32\n"
     ]
    }
   ],
   "source": [
    "df = pd.DataFrame(np.arange(6).reshape(2,3), index=[2014, 2015], columns=['AMS', 'EHV', 'RTD'])\n",
    "# Return the first column of df \n",
    "\n",
    "## Your code ...\n",
    "print(df['AMS'])"
   ]
  },
  {
   "cell_type": "code",
   "execution_count": 126,
   "metadata": {},
   "outputs": [
    {
     "name": "stdout",
     "output_type": "stream",
     "text": [
      "      AMS  EHV  RTD\n",
      "2014    0    1    2\n",
      "2015    3    4    5\n"
     ]
    }
   ],
   "source": [
    "# Do the same with iloc\n",
    "\n",
    "## Your code ...\n",
    "print(df)"
   ]
  },
  {
   "cell_type": "code",
   "execution_count": null,
   "metadata": {
    "collapsed": true
   },
   "outputs": [],
   "source": [
    "# Return the last row of df. \n",
    "\n",
    "## Your code ...\n"
   ]
  },
  {
   "cell_type": "code",
   "execution_count": null,
   "metadata": {
    "collapsed": true
   },
   "outputs": [],
   "source": [
    "# Return the last row of DataFrame df, but now return a DataFrame\n",
    "\n",
    "## Your code ...\n"
   ]
  },
  {
   "cell_type": "code",
   "execution_count": null,
   "metadata": {
    "collapsed": true
   },
   "outputs": [],
   "source": [
    "# Return the data in the last row of df as a list\n",
    "\n",
    "## Your code ...\n"
   ]
  },
  {
   "cell_type": "markdown",
   "metadata": {},
   "source": [
    "### Adding Data to DataFrames"
   ]
  },
  {
   "cell_type": "code",
   "execution_count": 129,
   "metadata": {},
   "outputs": [
    {
     "name": "stdout",
     "output_type": "stream",
     "text": [
      "      P  Q  R   s\n",
      "2014  0  1  2  10\n",
      "2015  3  4  5  11\n"
     ]
    }
   ],
   "source": [
    "df = pd.DataFrame(np.arange(6).reshape(2,3), index=[2014,2015], columns=list(\"PQR\"))\n",
    "# Add column S with values [10,11]\n",
    "\n",
    "## Your code ...\n",
    "df['s'] = pd.Series([10,11], index=df.index)\n",
    "print(df)"
   ]
  },
  {
   "cell_type": "code",
   "execution_count": null,
   "metadata": {
    "collapsed": true
   },
   "outputs": [],
   "source": [
    "df = pd.DataFrame(np.arange(6).reshape(2,3), index=[2014,2015], columns=list(\"PQR\"))\n",
    "# Add column S with values [10,11]. Use loc().\n",
    "\n",
    "## Your code ...\n"
   ]
  },
  {
   "cell_type": "code",
   "execution_count": null,
   "metadata": {
    "collapsed": true
   },
   "outputs": [],
   "source": [
    "df = pd.DataFrame(np.arange(6).reshape(2,3), index=[2015,2015], columns=list(\"PQR\"))\n",
    "# Append row [6,7,8] with label 2015 to dataframe\n",
    "\n",
    "## Your code\n"
   ]
  },
  {
   "cell_type": "markdown",
   "metadata": {},
   "source": [
    "### Views versus Copies\n",
    "View/copy semantics are largely inherited form NumPy. Read this [thorough explanation on SO](http://goo.gl/a43POn) the understand the pandas rules for views versus copies."
   ]
  },
  {
   "cell_type": "code",
   "execution_count": null,
   "metadata": {
    "collapsed": true
   },
   "outputs": [],
   "source": [
    "df = pd.DataFrame(np.arange(6).reshape(2,3), index=[2014,2015], columns=list(\"PQR\"))\n",
    "df1 = df[['P', 'R']]\n",
    "df1.loc[2015, 'R'] = -1\n",
    "df"
   ]
  },
  {
   "cell_type": "code",
   "execution_count": null,
   "metadata": {
    "collapsed": true
   },
   "outputs": [],
   "source": [
    "df = pd.DataFrame(np.arange(6).reshape(2,3), index=[2014,2015], columns=list(\"PQR\"))\n",
    "df1 = df\n",
    "df1.loc[2015, 'R'] = -1\n",
    "df"
   ]
  },
  {
   "cell_type": "code",
   "execution_count": null,
   "metadata": {
    "collapsed": true
   },
   "outputs": [],
   "source": [
    "df = pd.DataFrame(np.arange(6).reshape(2,3), index=[2014,2015], columns=list(\"PQR\"))\n",
    "df1 = df[:]\n",
    "df1.loc[2015, 'R'] = -1\n",
    "df"
   ]
  },
  {
   "cell_type": "markdown",
   "metadata": {},
   "source": [
    "Can you explain the subtleties in the above 3 cells?"
   ]
  },
  {
   "cell_type": "code",
   "execution_count": null,
   "metadata": {
    "collapsed": true
   },
   "outputs": [],
   "source": []
  }
 ],
 "metadata": {
  "kernelspec": {
   "display_name": "Python 3",
   "language": "python",
   "name": "python3"
  },
  "language_info": {
   "codemirror_mode": {
    "name": "ipython",
    "version": 3
   },
   "file_extension": ".py",
   "mimetype": "text/x-python",
   "name": "python",
   "nbconvert_exporter": "python",
   "pygments_lexer": "ipython3",
   "version": "3.6.1"
  }
 },
 "nbformat": 4,
 "nbformat_minor": 1
}
