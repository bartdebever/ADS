{
 "cells": [
  {
   "cell_type": "markdown",
   "metadata": {
    "slideshow": {
     "slide_type": "slide"
    }
   },
   "source": [
    "# 1. Jupyter: An Environment for Interactive Computing\n",
    "\n",
    "In this tutorial we'll be doing nearly everything using the Jupyter notebook. For that reason, we'll start with a quick intro to the Jupyter environment. Note that the ols name for Jupyter is `IPython`, it refers to Interactive Python."
   ]
  },
  {
   "cell_type": "markdown",
   "metadata": {
    "slideshow": {
     "slide_type": "fragment"
    }
   },
   "source": [
    "## What is Jupyter?\n",
    "\n",
    "+ Jupyter is a platform for you to *interact* with your code and data\n",
    "+ The *notebook*: a system for *literate computing*; weaves your scientific narratives together with your computational process (code & results)\n",
    "+ Ideal medium for reproducible research and teaching.\n",
    "+ Has a JSON-based ``*.ipynb`` document format."
   ]
  },
  {
   "cell_type": "markdown",
   "metadata": {
    "slideshow": {
     "slide_type": "slide"
    }
   },
   "source": [
    "## Some Resources\n",
    "\n",
    "   - The [Jupyter website](http://jupyter.org)\n",
    "   - The [IPython book](http://www.packtpub.com/learning-ipython-for-interactive-computing-and-data-visualization/book), a bit outdated though\n",
    "   - Ask for help on [Stack Overflow](http://stackoverflow.com/questions/tagged/ipython), tag it \"jupyter\"\n",
    "   - File a [GitHub issue](http://github.com/ipython/ipython)\n",
    "   - Have a look at the [Jupyter Notebook Gallery](https://github.com/jupyter/jupyter/wiki/A-gallery-of-interesting-Jupyter-Notebooks)"
   ]
  },
  {
   "cell_type": "markdown",
   "metadata": {
    "slideshow": {
     "slide_type": "slide"
    }
   },
   "source": [
    "## Jupyter: Beyond plain Python"
   ]
  },
  {
   "cell_type": "markdown",
   "metadata": {
    "slideshow": {
     "slide_type": "fragment"
    }
   },
   "source": [
    "When executing code in Jupyter, all valid Python syntax works as-is, but Jupyter additionally provides a number of features designed to make the interactive experience more fluid and efficient."
   ]
  },
  {
   "cell_type": "markdown",
   "metadata": {
    "slideshow": {
     "slide_type": "slide"
    }
   },
   "source": [
    "# 2. First Things First: Running Code"
   ]
  },
  {
   "cell_type": "markdown",
   "metadata": {
    "slideshow": {
     "slide_type": "fragment"
    }
   },
   "source": [
    "In the notebook, to run a cell of code, hit `Shift-Enter`. This executes the cell and puts the cursor in the next cell below, or makes a new one if you are at the end.  Alternately, you can use:\n",
    "    \n",
    "- `Alt-Enter` to force the creation of a new cell unconditionally (useful when inserting new content in the middle of an existing notebook).\n",
    "- `Control-Enter` executes the cell and keeps the cursor in the same cell, useful for quick experimentation of snippets that you don't need to keep permanently."
   ]
  },
  {
   "cell_type": "code",
   "execution_count": 1,
   "metadata": {
    "slideshow": {
     "slide_type": "fragment"
    }
   },
   "outputs": [
    {
     "name": "stdout",
     "output_type": "stream",
     "text": [
      "Hello\n"
     ]
    }
   ],
   "source": [
    "print(\"Hello\")"
   ]
  },
  {
   "cell_type": "markdown",
   "metadata": {
    "slideshow": {
     "slide_type": "slide"
    }
   },
   "source": [
    "# 3. Getting Help"
   ]
  },
  {
   "cell_type": "code",
   "execution_count": 2,
   "metadata": {
    "slideshow": {
     "slide_type": "fragment"
    }
   },
   "outputs": [],
   "source": [
    "?"
   ]
  },
  {
   "cell_type": "markdown",
   "metadata": {},
   "source": [
    "This opens a new splitscreen with a help page. "
   ]
  },
  {
   "cell_type": "markdown",
   "metadata": {
    "slideshow": {
     "slide_type": "slide"
    }
   },
   "source": [
    "## Help with `?` and `??`\n",
    "\n",
    "Typing `object_name?` will print all sorts of details about any object, including docstrings, function definition lines (for call arguments) and constructor details for classes."
   ]
  },
  {
   "cell_type": "code",
   "execution_count": 1,
   "metadata": {
    "slideshow": {
     "slide_type": "fragment"
    }
   },
   "outputs": [],
   "source": [
    "import collections\n",
    "collections.namedtuple?"
   ]
  },
  {
   "cell_type": "code",
   "execution_count": null,
   "metadata": {
    "collapsed": true
   },
   "outputs": [],
   "source": []
  },
  {
   "cell_type": "code",
   "execution_count": 2,
   "metadata": {
    "slideshow": {
     "slide_type": "fragment"
    }
   },
   "outputs": [],
   "source": [
    "collections.Counter??"
   ]
  },
  {
   "cell_type": "markdown",
   "metadata": {},
   "source": [
    "Do you notice the difference between ? and ?? "
   ]
  },
  {
   "cell_type": "code",
   "execution_count": 3,
   "metadata": {
    "slideshow": {
     "slide_type": "fragment"
    }
   },
   "outputs": [],
   "source": [
    "*int*?"
   ]
  },
  {
   "cell_type": "markdown",
   "metadata": {
    "slideshow": {
     "slide_type": "slide"
    }
   },
   "source": [
    "An Jupyter quick reference card:"
   ]
  },
  {
   "cell_type": "code",
   "execution_count": 4,
   "metadata": {
    "slideshow": {
     "slide_type": "fragment"
    }
   },
   "outputs": [],
   "source": [
    "%quickref"
   ]
  },
  {
   "cell_type": "markdown",
   "metadata": {
    "slideshow": {
     "slide_type": "slide"
    }
   },
   "source": [
    "## Tab Completion"
   ]
  },
  {
   "cell_type": "markdown",
   "metadata": {},
   "source": [
    "Tab completion, especially for attributes, is a convenient way to explore the structure of any object you’re dealing with. Simply type `object_name.<TAB>` to view the object’s attributes. Besides Python objects and keywords, tab completion also works on file and directory names."
   ]
  },
  {
   "cell_type": "code",
   "execution_count": 7,
   "metadata": {
    "slideshow": {
     "slide_type": "fragment"
    }
   },
   "outputs": [],
   "source": [
    "# type tab after the '.' below:\n",
    "collections."
   ]
  },
  {
   "cell_type": "markdown",
   "metadata": {
    "slideshow": {
     "slide_type": "slide"
    }
   },
   "source": [
    "# 4. Interactive Workflow: Input, Output, History"
   ]
  },
  {
   "cell_type": "code",
   "execution_count": 8,
   "metadata": {
    "slideshow": {
     "slide_type": "fragment"
    }
   },
   "outputs": [
    {
     "data": {
      "text/plain": [
       "12"
      ]
     },
     "execution_count": 8,
     "metadata": {},
     "output_type": "execute_result"
    }
   ],
   "source": [
    "2 + 10"
   ]
  },
  {
   "cell_type": "code",
   "execution_count": 9,
   "metadata": {
    "slideshow": {
     "slide_type": "fragment"
    }
   },
   "outputs": [
    {
     "data": {
      "text/plain": [
       "22"
      ]
     },
     "execution_count": 9,
     "metadata": {},
     "output_type": "execute_result"
    }
   ],
   "source": [
    "_ + 10"
   ]
  },
  {
   "cell_type": "markdown",
   "metadata": {
    "slideshow": {
     "slide_type": "slide"
    }
   },
   "source": [
    "## Output Control\n",
    "\n",
    "You can suppress the storage and rendering of output if you append `;` to the last cell (this comes in handy when plotting with matplotlib, for example):"
   ]
  },
  {
   "cell_type": "code",
   "execution_count": 10,
   "metadata": {
    "slideshow": {
     "slide_type": "fragment"
    }
   },
   "outputs": [],
   "source": [
    "10 + 20;"
   ]
  },
  {
   "cell_type": "code",
   "execution_count": 11,
   "metadata": {
    "slideshow": {
     "slide_type": "fragment"
    }
   },
   "outputs": [
    {
     "data": {
      "text/plain": [
       "22"
      ]
     },
     "execution_count": 11,
     "metadata": {},
     "output_type": "execute_result"
    }
   ],
   "source": [
    "_"
   ]
  },
  {
   "cell_type": "markdown",
   "metadata": {
    "slideshow": {
     "slide_type": "slide"
    }
   },
   "source": [
    "## Output History\n",
    "\n",
    "The output is stored in `_N` and `Out[N]` variables:"
   ]
  },
  {
   "cell_type": "code",
   "execution_count": 13,
   "metadata": {
    "slideshow": {
     "slide_type": "fragment"
    }
   },
   "outputs": [
    {
     "data": {
      "text/plain": [
       "True"
      ]
     },
     "execution_count": 13,
     "metadata": {},
     "output_type": "execute_result"
    }
   ],
   "source": [
    "_11 == Out[9]"
   ]
  },
  {
   "cell_type": "code",
   "execution_count": 14,
   "metadata": {},
   "outputs": [
    {
     "data": {
      "text/plain": [
       "{8: 12, 9: 22, 11: 22, 13: True}"
      ]
     },
     "execution_count": 14,
     "metadata": {},
     "output_type": "execute_result"
    }
   ],
   "source": [
    "Out"
   ]
  },
  {
   "cell_type": "markdown",
   "metadata": {
    "slideshow": {
     "slide_type": "slide"
    }
   },
   "source": [
    "And the last three have shorthands for convenience:"
   ]
  },
  {
   "cell_type": "code",
   "execution_count": 15,
   "metadata": {
    "slideshow": {
     "slide_type": "fragment"
    }
   },
   "outputs": [
    {
     "name": "stdout",
     "output_type": "stream",
     "text": [
      "last output     : True\n",
      "second to last  : 22\n",
      "third to last   : 22\n"
     ]
    }
   ],
   "source": [
    "print('last output     :', _)\n",
    "print('second to last  :', __)\n",
    "print('third to last   :', ___)"
   ]
  },
  {
   "cell_type": "markdown",
   "metadata": {
    "slideshow": {
     "slide_type": "slide"
    }
   },
   "source": [
    "## Input History"
   ]
  },
  {
   "cell_type": "code",
   "execution_count": 16,
   "metadata": {
    "slideshow": {
     "slide_type": "fragment"
    }
   },
   "outputs": [
    {
     "data": {
      "text/plain": [
       "'_'"
      ]
     },
     "execution_count": 16,
     "metadata": {},
     "output_type": "execute_result"
    }
   ],
   "source": [
    "In[11]"
   ]
  },
  {
   "cell_type": "code",
   "execution_count": 17,
   "metadata": {
    "slideshow": {
     "slide_type": "fragment"
    }
   },
   "outputs": [
    {
     "data": {
      "text/plain": [
       "'In[11]'"
      ]
     },
     "execution_count": 17,
     "metadata": {},
     "output_type": "execute_result"
    }
   ],
   "source": [
    "_i"
   ]
  },
  {
   "cell_type": "code",
   "execution_count": 18,
   "metadata": {
    "slideshow": {
     "slide_type": "fragment"
    }
   },
   "outputs": [
    {
     "data": {
      "text/plain": [
       "'In[11]'"
      ]
     },
     "execution_count": 18,
     "metadata": {},
     "output_type": "execute_result"
    }
   ],
   "source": [
    "_ii"
   ]
  },
  {
   "cell_type": "code",
   "execution_count": 19,
   "metadata": {
    "slideshow": {
     "slide_type": "fragment"
    }
   },
   "outputs": [
    {
     "name": "stdout",
     "output_type": "stream",
     "text": [
      "last input      : _ii\n",
      "second to last  : _i\n",
      "third to last   : In[11]\n"
     ]
    }
   ],
   "source": [
    "print('last input      :', _i)\n",
    "print('second to last  :', _ii)\n",
    "print('third to last   :', _iii)"
   ]
  },
  {
   "cell_type": "code",
   "execution_count": 20,
   "metadata": {
    "slideshow": {
     "slide_type": "fragment"
    }
   },
   "outputs": [
    {
     "name": "stdout",
     "output_type": "stream",
     "text": [
      "print(\"Hello\")\n",
      "?\n",
      "import collections\n",
      "collections.namedtuple?\n",
      "collections.Counter??\n",
      "*int*?\n",
      "%quickref\n",
      "# type tab after the '.' below:\n",
      "#collections.\n",
      "2 + 10\n",
      "_ + 10\n",
      "10 + 20;\n",
      "_\n",
      "_10 == Out[10]\n",
      "_11 == Out[9]\n",
      "Out\n",
      "print('last output     :', _)\n",
      "print('second to last  :', __)\n",
      "print('third to last   :', ___)\n",
      "In[11]\n",
      "_i\n",
      "_ii\n",
      "print('last input      :', _i)\n",
      "print('second to last  :', _ii)\n",
      "print('third to last   :', _iii)\n",
      "%history\n"
     ]
    }
   ],
   "source": [
    "%history"
   ]
  },
  {
   "cell_type": "markdown",
   "metadata": {
    "slideshow": {
     "slide_type": "slide"
    }
   },
   "source": [
    "# 5. Accessing the Underlying Operating System\n",
    "\n",
    "**Note:** The commands below work on Windows, but may behave differently on Mac or Linux, as the underlying OS is different. "
   ]
  },
  {
   "cell_type": "code",
   "execution_count": 21,
   "metadata": {},
   "outputs": [
    {
     "name": "stdout",
     "output_type": "stream",
     "text": [
      "C:\\Users\\885299\\Desktop\n"
     ]
    }
   ],
   "source": [
    "!cd"
   ]
  },
  {
   "cell_type": "code",
   "execution_count": 22,
   "metadata": {},
   "outputs": [
    {
     "name": "stdout",
     "output_type": "stream",
     "text": [
      " De volumenaam van station C is OSDisk\n",
      " Het volumenummer is 82C2-86FC\n",
      "\n",
      " Map van C:\\Users\\885299\\Desktop\n",
      "\n",
      "15-08-2017  15:18    <DIR>          .\n",
      "15-08-2017  15:18    <DIR>          ..\n",
      "15-08-2017  15:00    <DIR>          .ipynb_checkpoints\n",
      "10-08-2017  10:05         5.135.688 10 Python List Comprehension and Lambda.mp4\n",
      "01-09-2016  14:53           732.358 15 Python Libraries for Data Science.odt\n",
      "09-08-2017  16:48        14.085.163 4 Python Functions.mp4\n",
      "09-08-2017  16:58        11.334.591 5 Python Types and Sequences.mp4\n",
      "10-08-2017  09:19         3.324.816 7 Reading & Writing CSV Files.mp4\n",
      "10-08-2017  09:24         3.983.760 8 Python Dates and Times.mp4\n",
      "10-08-2017  09:34         8.814.599 9 Python Objects and Map.mp4\n",
      "15-06-2016  10:10             1.113 Adobe Photoshop CS6.lnk\n",
      "27-05-2017  20:29             2.914 Anaconda Prompt.lnk\n",
      "30-07-2017  14:04           769.455 Best NN Architecture for Object Recognition.pdf\n",
      "30-07-2017  14:25           137.855 Cheatsheet Jupyter Shortcuts.pdf\n",
      "15-08-2017  14:38           445.063 Course Logo.png\n",
      "20-05-2017  11:49         3.694.904 Deep Learning and Breast Cancer.pdf\n",
      "16-03-2017  16:43        23.371.638 Deep Learning Book.pdf\n",
      "27-03-2017  21:00            85.614 Deep Learning to Detect Cancer.docx\n",
      "23-05-2017  14:55         9.985.569 Deep Neural Nets are easily Fooled.pdf\n",
      "27-03-2017  21:03         8.587.810 Detecting Cancer Metastases on Gigapixel Pathology Images (20170302).pdf\n",
      "11-05-2016  12:20             1.236 Dropbox.lnk\n",
      "15-04-2017  20:54             2.789 Excel 2013.lnk\n",
      "13-07-2017  22:12           631.683 Fontys vist mee in vijver Nationale Wetenschapsagenda.mht\n",
      "15-08-2017  14:58             7.566 Group_svg.png\n",
      "26-03-2017  20:39           429.969 Grutto-LogoE.jpg\n",
      "06-08-2017  11:08    <DIR>          Interesting Papers\n",
      "23-05-2017  14:55         6.565.323 Intriguing Properties of NN.pdf\n",
      "15-08-2017  14:39            20.020 Jupyter New Front End DS.png\n",
      "22-06-2017  19:23           767.525 Layers of the Earth.docx\n",
      "15-08-2017  14:44             8.460 logo-horizontal-large.png\n",
      "14-03-2016  19:02            50.298 Motto.jpg\n",
      "20-06-2017  08:51           720.243 Neural Networks Zoo.png\n",
      "05-05-2017  20:07    <DIR>          Nielsen eBook\n",
      "30-07-2017  14:19            77.572 Nielsen NN Notes.txt\n",
      "09-05-2016  12:52             2.824 Outlook 2013.lnk\n",
      "30-06-2017  12:36    <DIR>          Overig\n",
      "09-05-2016  12:51             2.807 PowerPoint 2013.lnk\n",
      "15-08-2017  12:11            29.280 Python Intro Exercises.ipynb\n",
      "05-12-2015  10:56        33.745.141 Python Machine Learning.pdf\n",
      "31-08-2016  20:26         4.352.932 R-vs-Python Infographic.png\n",
      "04-07-2017  17:09    <DIR>          Tool Shortcuts\n",
      "15-08-2017  15:18            71.987 Tutorial Jupyter.ipynb\n",
      "01-09-2016  17:07            15.714 Tutorial Pandas.ipynb\n",
      "18-03-2017  19:52        36.235.279 Understanding CNNs [Zeiler, 2013].pdf\n",
      "13-07-2017  22:30           759.556 Vision & Deep Learning.docx\n",
      "15-08-2017  11:23            12.447 WekenIndelingSem3InclOnderwerpenUpdateML[Gerard].xlsx\n",
      "13-08-2017  16:19    <DIR>          WiP\n",
      "09-05-2016  12:51             2.837 Word 2013.lnk\n",
      "15-08-2017  10:02            40.362 WTF is ML.docx\n",
      "              41 bestand(en)      179.046.760 bytes\n",
      "               8 map(pen)  52.945.960.960 bytes beschikbaar\n"
     ]
    }
   ],
   "source": [
    "!dir"
   ]
  },
  {
   "cell_type": "markdown",
   "metadata": {
    "slideshow": {
     "slide_type": "slide"
    }
   },
   "source": [
    "# 6. Beyond Python: Magic Functions"
   ]
  },
  {
   "cell_type": "markdown",
   "metadata": {
    "slideshow": {
     "slide_type": "fragment"
    }
   },
   "source": [
    "The Jupyter 'magic' functions are a set of commands, invoked by prepending one or two `%` signs to their name, that live in a namespace separate from your normal Python variables and provide a more command-like interface.  They take flags with `--` and arguments without quotes, parentheses or commas. The motivation behind this system is two-fold:\n",
    "    \n",
    "- To provide an orthogonal namespace for controlling Jupyter itself and exposing other system-oriented functionality.\n",
    "\n",
    "- To expose a calling mode that requires minimal verbosity and typing while working interactively.  The inspiration is taken from the classic Unix shell style for commands."
   ]
  },
  {
   "cell_type": "code",
   "execution_count": 5,
   "metadata": {
    "slideshow": {
     "slide_type": "fragment"
    }
   },
   "outputs": [],
   "source": [
    "# Display detailed documentation for all of the available magic commands\n",
    "%magic"
   ]
  },
  {
   "cell_type": "markdown",
   "metadata": {
    "slideshow": {
     "slide_type": "slide"
    }
   },
   "source": [
    "Line magics are prefixed with the ``%`` character and work much like OS\n",
    "command-line calls: they get as an argument the rest of the line, where\n",
    "arguments are passed without parentheses or quotes.  For example, this will\n",
    "time the given statement::\n",
    "\n",
    "        %timeit range(1000)\n",
    "        \n",
    "Cell magics are prefixed with a double ``%%``, and they are functions that get as\n",
    "an argument not only the rest of the line, but also the lines below it in a\n",
    "separate argument.  These magics are called with two arguments: the rest of the\n",
    "call line and the body of the cell, consisting of the lines below the first.\n",
    "For example::\n",
    "\n",
    "        %%timeit x = numpy.random.randn((100, 100))\n",
    "        numpy.linalg.svd(x)\n",
    "\n",
    "will time the execution of the numpy svd routine, running the assignment of x\n",
    "as part of the setup phase is not timed."
   ]
  },
  {
   "cell_type": "code",
   "execution_count": 24,
   "metadata": {},
   "outputs": [
    {
     "data": {
      "text/plain": [
       "'C:\\\\Users\\\\885299\\\\Desktop'"
      ]
     },
     "execution_count": 24,
     "metadata": {},
     "output_type": "execute_result"
    }
   ],
   "source": [
    "# Compare with !cd\n",
    "%pwd"
   ]
  },
  {
   "cell_type": "code",
   "execution_count": 25,
   "metadata": {},
   "outputs": [
    {
     "name": "stdout",
     "output_type": "stream",
     "text": [
      " De volumenaam van station C is OSDisk\n",
      " Het volumenummer is 82C2-86FC\n",
      "\n",
      " Map van C:\\Users\\885299\\Desktop\n",
      "\n",
      "15-08-2017  15:22    <DIR>          .\n",
      "15-08-2017  15:22    <DIR>          ..\n",
      "15-08-2017  15:00    <DIR>          .ipynb_checkpoints\n",
      "10-08-2017  10:05         5.135.688 10 Python List Comprehension and Lambda.mp4\n",
      "01-09-2016  14:53           732.358 15 Python Libraries for Data Science.odt\n",
      "09-08-2017  16:48        14.085.163 4 Python Functions.mp4\n",
      "09-08-2017  16:58        11.334.591 5 Python Types and Sequences.mp4\n",
      "10-08-2017  09:19         3.324.816 7 Reading & Writing CSV Files.mp4\n",
      "10-08-2017  09:24         3.983.760 8 Python Dates and Times.mp4\n",
      "10-08-2017  09:34         8.814.599 9 Python Objects and Map.mp4\n",
      "15-06-2016  10:10             1.113 Adobe Photoshop CS6.lnk\n",
      "27-05-2017  20:29             2.914 Anaconda Prompt.lnk\n",
      "30-07-2017  14:04           769.455 Best NN Architecture for Object Recognition.pdf\n",
      "30-07-2017  14:25           137.855 Cheatsheet Jupyter Shortcuts.pdf\n",
      "15-08-2017  14:38           445.063 Course Logo.png\n",
      "20-05-2017  11:49         3.694.904 Deep Learning and Breast Cancer.pdf\n",
      "16-03-2017  16:43        23.371.638 Deep Learning Book.pdf\n",
      "27-03-2017  21:00            85.614 Deep Learning to Detect Cancer.docx\n",
      "23-05-2017  14:55         9.985.569 Deep Neural Nets are easily Fooled.pdf\n",
      "27-03-2017  21:03         8.587.810 Detecting Cancer Metastases on Gigapixel Pathology Images (20170302).pdf\n",
      "11-05-2016  12:20             1.236 Dropbox.lnk\n",
      "15-04-2017  20:54             2.789 Excel 2013.lnk\n",
      "13-07-2017  22:12           631.683 Fontys vist mee in vijver Nationale Wetenschapsagenda.mht\n",
      "15-08-2017  14:58             7.566 Group_svg.png\n",
      "26-03-2017  20:39           429.969 Grutto-LogoE.jpg\n",
      "06-08-2017  11:08    <DIR>          Interesting Papers\n",
      "23-05-2017  14:55         6.565.323 Intriguing Properties of NN.pdf\n",
      "15-08-2017  14:39            20.020 Jupyter New Front End DS.png\n",
      "22-06-2017  19:23           767.525 Layers of the Earth.docx\n",
      "15-08-2017  14:44             8.460 logo-horizontal-large.png\n",
      "14-03-2016  19:02            50.298 Motto.jpg\n",
      "20-06-2017  08:51           720.243 Neural Networks Zoo.png\n",
      "05-05-2017  20:07    <DIR>          Nielsen eBook\n",
      "30-07-2017  14:19            77.572 Nielsen NN Notes.txt\n",
      "09-05-2016  12:52             2.824 Outlook 2013.lnk\n",
      "30-06-2017  12:36    <DIR>          Overig\n",
      "09-05-2016  12:51             2.807 PowerPoint 2013.lnk\n",
      "15-08-2017  12:11            29.280 Python Intro Exercises.ipynb\n",
      "05-12-2015  10:56        33.745.141 Python Machine Learning.pdf\n",
      "31-08-2016  20:26         4.352.932 R-vs-Python Infographic.png\n",
      "04-07-2017  17:09    <DIR>          Tool Shortcuts\n",
      "15-08-2017  15:22            72.675 Tutorial Jupyter.ipynb\n",
      "01-09-2016  17:07            15.714 Tutorial Pandas.ipynb\n",
      "18-03-2017  19:52        36.235.279 Understanding CNNs [Zeiler, 2013].pdf\n",
      "13-07-2017  22:30           759.556 Vision & Deep Learning.docx\n",
      "15-08-2017  11:23            12.447 WekenIndelingSem3InclOnderwerpenUpdateML[Gerard].xlsx\n",
      "13-08-2017  16:19    <DIR>          WiP\n",
      "09-05-2016  12:51             2.837 Word 2013.lnk\n",
      "15-08-2017  10:02            40.362 WTF is ML.docx\n",
      "              41 bestand(en)      179.047.448 bytes\n",
      "               8 map(pen)  52.946.489.344 bytes beschikbaar\n"
     ]
    }
   ],
   "source": [
    "# Compare with !dir\n",
    "%ls"
   ]
  },
  {
   "cell_type": "code",
   "execution_count": 6,
   "metadata": {},
   "outputs": [
    {
     "name": "stdout",
     "output_type": "stream",
     "text": [
      "Wall time: 0 ns\n"
     ]
    },
    {
     "data": {
      "text/plain": [
       "range(0, 10)"
      ]
     },
     "execution_count": 6,
     "metadata": {},
     "output_type": "execute_result"
    }
   ],
   "source": [
    "# Report the execution time of a single statement\n",
    "%time range(10)"
   ]
  },
  {
   "cell_type": "code",
   "execution_count": 27,
   "metadata": {
    "slideshow": {
     "slide_type": "fragment"
    }
   },
   "outputs": [
    {
     "name": "stdout",
     "output_type": "stream",
     "text": [
      "The slowest run took 5.00 times longer than the fastest. This could mean that an intermediate result is being cached.\n",
      "1000000 loops, best of 3: 237 ns per loop\n"
     ]
    }
   ],
   "source": [
    "# Run a statement multiple times to compute an ensemble avaerage execution time. Useful for timing code.\n",
    "%timeit range(10)"
   ]
  },
  {
   "cell_type": "code",
   "execution_count": 28,
   "metadata": {
    "slideshow": {
     "slide_type": "fragment"
    }
   },
   "outputs": [
    {
     "name": "stdout",
     "output_type": "stream",
     "text": [
      "1000000 loops, best of 3: 495 ns per loop\n"
     ]
    }
   ],
   "source": [
    "%%timeit\n",
    "range(10)\n",
    "range(100)"
   ]
  },
  {
   "cell_type": "markdown",
   "metadata": {
    "slideshow": {
     "slide_type": "fragment"
    }
   },
   "source": [
    "Line magics can be used even inside code blocks:"
   ]
  },
  {
   "cell_type": "code",
   "execution_count": 29,
   "metadata": {
    "slideshow": {
     "slide_type": "fragment"
    }
   },
   "outputs": [
    {
     "name": "stdout",
     "output_type": "stream",
     "text": [
      "size: 0\n",
      "The slowest run took 6.23 times longer than the fastest. This could mean that an intermediate result is being cached.\n",
      "1000000 loops, best of 3: 190 ns per loop\n",
      "size: 100\n",
      "1000000 loops, best of 3: 252 ns per loop\n",
      "size: 200\n",
      "1000000 loops, best of 3: 252 ns per loop\n",
      "size: 300\n",
      "The slowest run took 5.31 times longer than the fastest. This could mean that an intermediate result is being cached.\n",
      "1000000 loops, best of 3: 297 ns per loop\n",
      "size: 400\n",
      "1000000 loops, best of 3: 297 ns per loop\n"
     ]
    }
   ],
   "source": [
    "for i in range(5):\n",
    "    size = i*100\n",
    "    print('size:', size)\n",
    "    %timeit range(size)"
   ]
  },
  {
   "cell_type": "markdown",
   "metadata": {
    "slideshow": {
     "slide_type": "fragment"
    }
   },
   "source": [
    "Another interesting cell magic: create any file you want locally from the notebook:"
   ]
  },
  {
   "cell_type": "code",
   "execution_count": 31,
   "metadata": {},
   "outputs": [
    {
     "name": "stderr",
     "output_type": "stream",
     "text": [
      "ERROR:root:File `'script.py'` not found.\n"
     ]
    }
   ],
   "source": [
    "# Run a python script inside IPython\n",
    "%run script.py"
   ]
  },
  {
   "cell_type": "code",
   "execution_count": 32,
   "metadata": {},
   "outputs": [
    {
     "name": "stdout",
     "output_type": "stream",
     "text": [
      "Variable      Type      Data/Info\n",
      "---------------------------------\n",
      "collections   module    <module 'collections' fro<...>ollections\\\\__init__.py'>\n",
      "i             int       4\n",
      "size          int       400\n"
     ]
    }
   ],
   "source": [
    "# Display variables defined in interactive namespace\n",
    "%whos"
   ]
  },
  {
   "cell_type": "markdown",
   "metadata": {
    "slideshow": {
     "slide_type": "slide"
    }
   },
   "source": [
    "Let's see what other magics are currently defined in the system:"
   ]
  },
  {
   "cell_type": "code",
   "execution_count": 33,
   "metadata": {
    "slideshow": {
     "slide_type": "fragment"
    }
   },
   "outputs": [
    {
     "data": {
      "application/json": {
       "cell": {
        "!": "OSMagics",
        "HTML": "Other",
        "SVG": "Other",
        "bash": "Other",
        "capture": "ExecutionMagics",
        "cmd": "Other",
        "debug": "ExecutionMagics",
        "file": "Other",
        "html": "DisplayMagics",
        "javascript": "DisplayMagics",
        "latex": "DisplayMagics",
        "perl": "Other",
        "prun": "ExecutionMagics",
        "pypy": "Other",
        "python": "Other",
        "python2": "Other",
        "python3": "Other",
        "ruby": "Other",
        "script": "ScriptMagics",
        "sh": "Other",
        "svg": "DisplayMagics",
        "sx": "OSMagics",
        "system": "OSMagics",
        "time": "ExecutionMagics",
        "timeit": "ExecutionMagics",
        "writefile": "OSMagics"
       },
       "line": {
        "alias": "OSMagics",
        "alias_magic": "BasicMagics",
        "autocall": "AutoMagics",
        "automagic": "AutoMagics",
        "autosave": "KernelMagics",
        "bookmark": "OSMagics",
        "cd": "OSMagics",
        "clear": "KernelMagics",
        "cls": "KernelMagics",
        "colors": "BasicMagics",
        "config": "ConfigMagics",
        "connect_info": "KernelMagics",
        "copy": "Other",
        "ddir": "Other",
        "debug": "ExecutionMagics",
        "dhist": "OSMagics",
        "dirs": "OSMagics",
        "doctest_mode": "BasicMagics",
        "echo": "Other",
        "ed": "Other",
        "edit": "KernelMagics",
        "env": "OSMagics",
        "gui": "BasicMagics",
        "hist": "Other",
        "history": "HistoryMagics",
        "install_default_config": "DeprecatedMagics",
        "install_ext": "ExtensionMagics",
        "install_profiles": "DeprecatedMagics",
        "killbgscripts": "ScriptMagics",
        "ldir": "Other",
        "less": "KernelMagics",
        "load": "CodeMagics",
        "load_ext": "ExtensionMagics",
        "loadpy": "CodeMagics",
        "logoff": "LoggingMagics",
        "logon": "LoggingMagics",
        "logstart": "LoggingMagics",
        "logstate": "LoggingMagics",
        "logstop": "LoggingMagics",
        "ls": "Other",
        "lsmagic": "BasicMagics",
        "macro": "ExecutionMagics",
        "magic": "BasicMagics",
        "matplotlib": "PylabMagics",
        "mkdir": "Other",
        "more": "KernelMagics",
        "notebook": "BasicMagics",
        "page": "BasicMagics",
        "pastebin": "CodeMagics",
        "pdb": "ExecutionMagics",
        "pdef": "NamespaceMagics",
        "pdoc": "NamespaceMagics",
        "pfile": "NamespaceMagics",
        "pinfo": "NamespaceMagics",
        "pinfo2": "NamespaceMagics",
        "popd": "OSMagics",
        "pprint": "BasicMagics",
        "precision": "BasicMagics",
        "profile": "BasicMagics",
        "prun": "ExecutionMagics",
        "psearch": "NamespaceMagics",
        "psource": "NamespaceMagics",
        "pushd": "OSMagics",
        "pwd": "OSMagics",
        "pycat": "OSMagics",
        "pylab": "PylabMagics",
        "qtconsole": "KernelMagics",
        "quickref": "BasicMagics",
        "recall": "HistoryMagics",
        "rehashx": "OSMagics",
        "reload_ext": "ExtensionMagics",
        "ren": "Other",
        "rep": "Other",
        "rerun": "HistoryMagics",
        "reset": "NamespaceMagics",
        "reset_selective": "NamespaceMagics",
        "rmdir": "Other",
        "run": "ExecutionMagics",
        "save": "CodeMagics",
        "sc": "OSMagics",
        "set_env": "OSMagics",
        "store": "StoreMagics",
        "sx": "OSMagics",
        "system": "OSMagics",
        "tb": "ExecutionMagics",
        "time": "ExecutionMagics",
        "timeit": "ExecutionMagics",
        "unalias": "OSMagics",
        "unload_ext": "ExtensionMagics",
        "who": "NamespaceMagics",
        "who_ls": "NamespaceMagics",
        "whos": "NamespaceMagics",
        "xdel": "NamespaceMagics",
        "xmode": "BasicMagics"
       }
      },
      "text/plain": [
       "Available line magics:\n",
       "%alias  %alias_magic  %autocall  %automagic  %autosave  %bookmark  %cd  %clear  %cls  %colors  %config  %connect_info  %copy  %ddir  %debug  %dhist  %dirs  %doctest_mode  %echo  %ed  %edit  %env  %gui  %hist  %history  %install_default_config  %install_ext  %install_profiles  %killbgscripts  %ldir  %less  %load  %load_ext  %loadpy  %logoff  %logon  %logstart  %logstate  %logstop  %ls  %lsmagic  %macro  %magic  %matplotlib  %mkdir  %more  %notebook  %page  %pastebin  %pdb  %pdef  %pdoc  %pfile  %pinfo  %pinfo2  %popd  %pprint  %precision  %profile  %prun  %psearch  %psource  %pushd  %pwd  %pycat  %pylab  %qtconsole  %quickref  %recall  %rehashx  %reload_ext  %ren  %rep  %rerun  %reset  %reset_selective  %rmdir  %run  %save  %sc  %set_env  %store  %sx  %system  %tb  %time  %timeit  %unalias  %unload_ext  %who  %who_ls  %whos  %xdel  %xmode\n",
       "\n",
       "Available cell magics:\n",
       "%%!  %%HTML  %%SVG  %%bash  %%capture  %%cmd  %%debug  %%file  %%html  %%javascript  %%latex  %%perl  %%prun  %%pypy  %%python  %%python2  %%python3  %%ruby  %%script  %%sh  %%svg  %%sx  %%system  %%time  %%timeit  %%writefile\n",
       "\n",
       "Automagic is ON, % prefix IS NOT needed for line magics."
      ]
     },
     "execution_count": 33,
     "metadata": {},
     "output_type": "execute_result"
    }
   ],
   "source": [
    "%lsmagic"
   ]
  },
  {
   "cell_type": "markdown",
   "metadata": {
    "slideshow": {
     "slide_type": "slide"
    }
   },
   "source": [
    "# 7. Running Python: Execution and Errors"
   ]
  },
  {
   "cell_type": "markdown",
   "metadata": {
    "slideshow": {
     "slide_type": "fragment"
    }
   },
   "source": [
    "Not only can you input normal Python code, you can even paste straight from a Python shell session:"
   ]
  },
  {
   "cell_type": "code",
   "execution_count": 34,
   "metadata": {
    "slideshow": {
     "slide_type": "fragment"
    }
   },
   "outputs": [
    {
     "name": "stdout",
     "output_type": "stream",
     "text": [
      "1\n",
      "1\n",
      "2\n",
      "3\n",
      "5\n",
      "8\n"
     ]
    }
   ],
   "source": [
    ">>> # Fibonacci series:\n",
    "... # the sum of two elements defines the next\n",
    "... a, b = 0, 1\n",
    ">>> while b < 10:\n",
    "...     print(b)\n",
    "...     a, b = b, a+b"
   ]
  },
  {
   "cell_type": "code",
   "execution_count": 35,
   "metadata": {
    "slideshow": {
     "slide_type": "fragment"
    }
   },
   "outputs": [
    {
     "name": "stdout",
     "output_type": "stream",
     "text": [
      "0\n",
      "1\n",
      "2\n",
      "3\n",
      "4\n"
     ]
    }
   ],
   "source": [
    "In [1]: for i in range(5):\n",
    "   ...:     print(i)\n",
    "   ...:     "
   ]
  },
  {
   "cell_type": "markdown",
   "metadata": {
    "slideshow": {
     "slide_type": "slide"
    }
   },
   "source": [
    "# 8. Plotting in the Notebook"
   ]
  },
  {
   "cell_type": "markdown",
   "metadata": {
    "slideshow": {
     "slide_type": "fragment"
    }
   },
   "source": [
    "This imports numpy as `np` and matplotlib's plotting routines as `plt`, plus setting lots of other stuff for you to work interactivel very easily:"
   ]
  },
  {
   "cell_type": "code",
   "execution_count": 36,
   "metadata": {
    "slideshow": {
     "slide_type": "fragment"
    }
   },
   "outputs": [],
   "source": [
    "%matplotlib inline"
   ]
  },
  {
   "cell_type": "code",
   "execution_count": 37,
   "metadata": {
    "slideshow": {
     "slide_type": "fragment"
    }
   },
   "outputs": [],
   "source": [
    "import numpy as np\n",
    "import matplotlib.pyplot as plt\n",
    "from matplotlib.pyplot import gcf"
   ]
  },
  {
   "cell_type": "code",
   "execution_count": 38,
   "metadata": {
    "slideshow": {
     "slide_type": "fragment"
    }
   },
   "outputs": [
    {
     "data": {
      "image/png": "[encoded data removed]",
      "text/plain": [
       "<matplotlib.figure.Figure at 0x8483860>"
      ]
     },
     "metadata": {},
     "output_type": "display_data"
    }
   ],
   "source": [
    "x = np.linspace(0, 2*np.pi, 300)\n",
    "y = np.sin(x**2)\n",
    "plt.plot(x, y)\n",
    "plt.title(\"A little chirp\")\n",
    "f = gcf()  # let's keep the figure object for later..."
   ]
  },
  {
   "cell_type": "markdown",
   "metadata": {
    "slideshow": {
     "slide_type": "slide"
    }
   },
   "source": [
    "# 9. Working with Notebooks"
   ]
  },
  {
   "cell_type": "markdown",
   "metadata": {
    "slideshow": {
     "slide_type": "fragment"
    }
   },
   "source": [
    "* Jupyter notebooks are just files (`.ipynb`) on your file system\n",
    "* Contain JSON data\n",
    "* The notebook server is aware of notebooks in the directory (and in subdirectories) of the location where it is started.\n",
    "* Embed code, Markdown text, LaTeX equations, images\n",
    "* Are version control friendly: post your Notebooks on GitHub\n",
    "* Can be viewed online by anyone at http://nbviewer.ipython.org"
   ]
  },
  {
   "cell_type": "code",
   "execution_count": 43,
   "metadata": {
    "slideshow": {
     "slide_type": "fragment"
    }
   },
   "outputs": [],
   "source": [
    "#from IPython.nbformat import current\n",
    "from nbformat import current\n",
    "with open('Tutorial Jupyter.ipynb') as f:\n",
    "    nb = current.read(f, 'json')"
   ]
  },
  {
   "cell_type": "code",
   "execution_count": 44,
   "metadata": {
    "slideshow": {
     "slide_type": "fragment"
    }
   },
   "outputs": [
    {
     "data": {
      "text/plain": [
       "[{'cell_type': 'markdown',\n",
       "  'metadata': {'slideshow': {'slide_type': 'slide'}},\n",
       "  'source': \"# 1. Jupyter: An Environment for Interactive Computing\\n\\nIn this tutorial we'll be doing nearly everything using the Jupyter notebook. For that reason, we'll start with a quick intro to the Jupyter environment. Note that the ols name for Jupyter is `IPython`, it refers to Interactive Python.\"},\n",
       " {'cell_type': 'markdown',\n",
       "  'metadata': {'slideshow': {'slide_type': 'fragment'}},\n",
       "  'source': '## What is Jupyter?\\n\\n+ Jupyter is a platform for you to *interact* with your code and data\\n+ The *notebook*: a system for *literate computing*; weaves your scientific narratives together with your computational process (code & results)\\n+ Ideal medium for reproducible research and teaching.\\n+ Has a JSON-based ``*.ipynb`` document format.'},\n",
       " {'cell_type': 'markdown',\n",
       "  'metadata': {'slideshow': {'slide_type': 'slide'}},\n",
       "  'source': '## Some Resources\\n\\n   - The [Jupyter website](http://jupyter.org)\\n   - The [IPython book](http://www.packtpub.com/learning-ipython-for-interactive-computing-and-data-visualization/book)\\n   - Ask for help on [Stack Overflow](http://stackoverflow.com/questions/tagged/ipython), tag it \"jupyter\"\\n   - File a [GitHub issue](http://github.com/ipython/ipython)\\n   - Have a look at the [Jupyter Notebook Gallery](https://github.com/jupyter/jupyter/wiki/A-gallery-of-interesting-Jupyter-Notebooks)'},\n",
       " {'cell_type': 'heading',\n",
       "  'level': 2,\n",
       "  'metadata': {'slideshow': {'slide_type': 'slide'}},\n",
       "  'source': 'Jupyter: Beyond plain Python'},\n",
       " {'cell_type': 'markdown',\n",
       "  'metadata': {'slideshow': {'slide_type': 'fragment'}},\n",
       "  'source': 'When executing code in Jupyter, all valid Python syntax works as-is, but Jupyter additionally provides a number of features designed to make the interactive experience more fluid and efficient.'}]"
      ]
     },
     "execution_count": 44,
     "metadata": {},
     "output_type": "execute_result"
    }
   ],
   "source": [
    "nb.worksheets[0].cells[0:5]"
   ]
  },
  {
   "cell_type": "markdown",
   "metadata": {
    "slideshow": {
     "slide_type": "slide"
    }
   },
   "source": [
    "## Saving and Exporting\n",
    "\n",
    "Notebooks can also be exported to `.py` files (see \"File:Download As\" menu item). You can tell the Notebook server to always save these `.py` files alongside the `.ipynb` files by starting the Notebook as:\n",
    "\n",
    "    jupyter notebook --script\n",
    "\n",
    "You can import Notebooks from the main Dashboard or simply by copying a Notebook into the Notebook directory."
   ]
  },
  {
   "cell_type": "markdown",
   "metadata": {
    "slideshow": {
     "slide_type": "slide"
    }
   },
   "source": [
    "## Overview of the UI\n",
    "\n",
    "* Dashboard\n",
    "* Notebook area and cells\n",
    "* *Edit* vs *Command* mode\n",
    "* Menu\n",
    "* Toolbar"
   ]
  },
  {
   "cell_type": "markdown",
   "metadata": {
    "slideshow": {
     "slide_type": "slide"
    }
   },
   "source": [
    "## Cell types\n",
    "\n",
    "* Code\n",
    "* Markdown\n",
    "* Raw text\n",
    "* Heading"
   ]
  },
  {
   "cell_type": "markdown",
   "metadata": {
    "slideshow": {
     "slide_type": "slide"
    }
   },
   "source": [
    "## Keyboard Shortcuts\n",
    "\n",
    "* `Shift-Enter` to run a cell\n",
    "* `Ctrl-Enter` to run a cell in place\n",
    "* All other keyboard shortcuts have the form: `Ctrl-m ?`\n",
    "* Show all keyboard shortcuts using `Ctrl-m h`"
   ]
  },
  {
   "cell_type": "code",
   "execution_count": null,
   "metadata": {
    "collapsed": true
   },
   "outputs": [],
   "source": []
  }
 ],
 "metadata": {
  "kernelspec": {
   "display_name": "Python 3",
   "language": "python",
   "name": "python3"
  },
  "language_info": {
   "codemirror_mode": {
    "name": "ipython",
    "version": 3
   },
   "file_extension": ".py",
   "mimetype": "text/x-python",
   "name": "python",
   "nbconvert_exporter": "python",
   "pygments_lexer": "ipython3",
   "version": "3.6.1"
  }
 },
 "nbformat": 4,
 "nbformat_minor": 1
}
