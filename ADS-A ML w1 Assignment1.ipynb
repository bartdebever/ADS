{
 "cells": [
  {
   "cell_type": "markdown",
   "metadata": {},
   "source": [
    "*ADS-A Week 1 Assignment 1*\n",
    "\n",
    "# Basic Python Exercises"
   ]
  },
  {
   "cell_type": "markdown",
   "metadata": {},
   "source": [
    "These exercises touch only a very small subset of Python. The reason this subset has been chosen is that:\n",
    "1. It contains basic Python idiom that deviates substantially from what you are used to in languages such as C# and Java.\n",
    "2. We have to be familiar with the idiom in it as we will make extensive use of it in solving data science problems.\n",
    "\n",
    "For help in solving the exercises you can consult this online [Python tutorial](https://docs.python.org/3.4/tutorial/)."
   ]
  },
  {
   "cell_type": "markdown",
   "metadata": {},
   "source": [
    "## String Exercises"
   ]
  },
  {
   "cell_type": "markdown",
   "metadata": {},
   "source": [
    "Besides numbers, Python can also manipulate strings, which can be expressed in several ways. They can be enclosed in single quotes ('...') or double quotes (\"...\") with the same result."
   ]
  },
  {
   "cell_type": "markdown",
   "metadata": {},
   "source": [
    "### String Indexing"
   ]
  },
  {
   "cell_type": "code",
   "execution_count": 1,
   "metadata": {},
   "outputs": [
    {
     "name": "stdout",
     "output_type": "stream",
     "text": [
      "Fontys\n"
     ]
    }
   ],
   "source": [
    "# Get the substring 'Fontys' from 'Fontys Machine Learning'\n",
    "\n",
    "# Solution without variables\n",
    "'Fontys Machine Learning'[:6]\n",
    "\n",
    "# Solution with variables\n",
    "a = 'Fontys Machine Learning'\n",
    "b = a[0:6]        # Characters from position 0 (included) to 6 (excluded)\n",
    "print(b)\n",
    "\n",
    "# Yet another solution\n",
    "b = a[:6]  "
   ]
  },
  {
   "cell_type": "code",
   "execution_count": 4,
   "metadata": {
    "scrolled": true
   },
   "outputs": [
    {
     "name": "stdout",
     "output_type": "stream",
     "text": [
      "Machine\n"
     ]
    }
   ],
   "source": [
    "## Get the substring 'Machine' from 'Fontys Machine Learning'\n",
    "\n",
    "# Your code ...\n",
    "c = a[7:14]\n",
    "print(c)"
   ]
  },
  {
   "cell_type": "markdown",
   "metadata": {},
   "source": [
    "``str[start:end:stride]`` slices str from position start to position end taking steps of length stride. Note how the start is always included, and the end always excluded. This makes sure that ``s[:i] + s[i:]`` is always equal to ``s``. Negative strides go backwards through string. ``[:]`` (single colon) refers to all elements of a string. ``[1:]`` is equivalent to \"1 to end\".\n",
    "\n",
    "One way to remember how slices work is to think of the indices as pointing between characters, with the left edge of the first character numbered 0. Then the right edge of the last character of a string of n characters has index n, for example:\n",
    "\n",
    "<pre>\n",
    " +---+---+---+---+---+---+\n",
    " | P | y | t | h | o | n |\n",
    " +---+---+---+---+---+---+\n",
    " 0   1   2   3   4   5   6\n",
    "-6  -5  -4  -3  -2  -1\n",
    "</pre>"
   ]
  },
  {
   "cell_type": "code",
   "execution_count": 5,
   "metadata": {},
   "outputs": [
    {
     "data": {
      "text/plain": [
       "True"
      ]
     },
     "execution_count": 5,
     "metadata": {},
     "output_type": "execute_result"
    }
   ],
   "source": [
    "# What is the result of this expression, explain!\n",
    "'Fontys'[:] == 'Fontys'[0:len('Fontys'):1]"
   ]
  },
  {
   "cell_type": "markdown",
   "metadata": {},
   "source": [
    "`'Fontys'[:]` returns the entire string `\"Fontys\"` because both the indexes are empty.\n",
    "\n",
    "`len('Fontys')` will return the lenght of the string inside. This will be 6.\n",
    "\n",
    "This means the code becomes `'Fontys'[0:6:1]`, 0 is the start index and 6 is the end index, we can just remove these as they don't make any difference. This results in the code `'Fontys'[::1]` we can again simplify this by removing the stepsize which is still the default (1).\n",
    "\n",
    "The last simplified code is: `'Fontys'[:] == 'Fontys'[:]`, both sides return the same `'Fontys'` string and therefor the statement is true."
   ]
  },
  {
   "cell_type": "code",
   "execution_count": 9,
   "metadata": {},
   "outputs": [
    {
     "name": "stdout",
     "output_type": "stream",
     "text": [
      "Bye\n"
     ]
    }
   ],
   "source": [
    "# Using slicing, create the string \"Bye' from 'Bicycle' (you have to collect characters at positions 0, 3 and 6)\n",
    "\n",
    "## Your code ...\n",
    "o = 'Bicycle'\n",
    "print(o[::3])"
   ]
  },
  {
   "cell_type": "code",
   "execution_count": 11,
   "metadata": {},
   "outputs": [
    {
     "name": "stdout",
     "output_type": "stream",
     "text": [
      "sytnoF\n"
     ]
    }
   ],
   "source": [
    "# Reverse the string 'Fontys'\n",
    "\n",
    "## Your code ...\n",
    "print('Fontys'[::-1])"
   ]
  },
  {
   "cell_type": "code",
   "execution_count": 231,
   "metadata": {},
   "outputs": [
    {
     "name": "stdout",
     "output_type": "stream",
     "text": [
      "The slowest run took 16.68 times longer than the fastest. This could mean that an intermediate result is being cached.\n",
      "1000000 loops, best of 3: 461 ns per loop\n"
     ]
    }
   ],
   "source": [
    "# Decide if a string is a palindrome, create a function for this, time the execution time of this function\n",
    "s = 'legermeetsysteemregel'\n",
    "\n",
    "## Your code ...\n",
    "def is_palindrome(s):\n",
    "    reverse = s[::-1]\n",
    "    \n",
    "    return (s == reverse)\n",
    "\n",
    "%timeit is_palindrome(s)"
   ]
  },
  {
   "cell_type": "code",
   "execution_count": 30,
   "metadata": {},
   "outputs": [
    {
     "name": "stdout",
     "output_type": "stream",
     "text": [
      "True\n"
     ]
    }
   ],
   "source": [
    "# Improve your is_palindrome() function, it should return true only if a sentence (ignoring blanks, character case \n",
    "# and punctuation) is a palindrome, e.g is_palindrome('A man, a plan, a canal, Panama') should return True\n",
    "\n",
    "## Your code ...\n",
    "def is_palindrome(s):\n",
    "    chars = {' ', ',', '.'} #more characters that need to be removed can be added here\n",
    "    e = s\n",
    "    for char in chars:\n",
    "        e = e.replace(char, '')\n",
    "    e = e.lower()\n",
    "    reverse = e[::-1]\n",
    "    return (e == reverse)\n",
    "\n",
    "print(is_palindrome('A man, a plan, a canal, Panama'))"
   ]
  },
  {
   "cell_type": "markdown",
   "metadata": {},
   "source": [
    "### Create Formatted String Output"
   ]
  },
  {
   "cell_type": "code",
   "execution_count": 37,
   "metadata": {},
   "outputs": [
    {
     "name": "stdout",
     "output_type": "stream",
     "text": [
      "The ADS-A Specialisation at FHICT has 56 students!\n"
     ]
    }
   ],
   "source": [
    "# Create the string 'The %s at %s has %d students!' where the placeholders\n",
    "# are substituted with 'ADS-A Specialisation', 'FHICT', and 56\n",
    "\n",
    "# See: https://docs.python.org/3.4/library/string.html#format-string-syntax\n",
    "\n",
    "## Your code ...\n",
    "a = 'The %s at %s has %d students!'\n",
    "print(a%('ADS-A Specialisation', 'FHICT', 56))"
   ]
  },
  {
   "cell_type": "markdown",
   "metadata": {},
   "source": [
    "The method ``split(str,num)`` returns a list of all the words in the string, using ``str`` as the separator (splits on all whitespace if left unspecified), optionally limiting the number of splits to ``num``."
   ]
  },
  {
   "cell_type": "code",
   "execution_count": 40,
   "metadata": {},
   "outputs": [
    {
     "name": "stdout",
     "output_type": "stream",
     "text": [
      "Name: b.debever\n",
      "Domain: student.fontys.nl\n"
     ]
    }
   ],
   "source": [
    "# Split user name and domain in a mail address:\n",
    "\n",
    "## Your code ...\n",
    "e = 'b.debever@student.fontys.nl'\n",
    "b = e.split('@')\n",
    "name = b[0]\n",
    "domain = b[1]\n",
    "print('Name: ' + name)\n",
    "print('Domain: ' + domain)"
   ]
  },
  {
   "cell_type": "code",
   "execution_count": 42,
   "metadata": {
    "collapsed": true
   },
   "outputs": [],
   "source": [
    "# Using a format string specifier, create the string 'lgh(at)fontys.nl' from addr\n",
    "# you could use the parameter unpacking operator *\n",
    "\n",
    "## Your code ...\n",
    "#Can't know contents of variable addr"
   ]
  },
  {
   "cell_type": "markdown",
   "metadata": {},
   "source": [
    "## List Exercises"
   ]
  },
  {
   "cell_type": "markdown",
   "metadata": {},
   "source": [
    "Python knows a number of compound data types, used to group together other values. The most versatile is the list, which can be written as a list of comma-separated values (items) between square brackets. Lists might contain items of different types, but usually the items all have the same type."
   ]
  },
  {
   "cell_type": "markdown",
   "metadata": {},
   "source": [
    "### List Creation"
   ]
  },
  {
   "cell_type": "code",
   "execution_count": 44,
   "metadata": {
    "collapsed": true
   },
   "outputs": [],
   "source": [
    "# Create a list of numbers 1,2,3\n",
    "[1,2,3]"
   ]
  },
  {
   "cell_type": "code",
   "execution_count": 232,
   "metadata": {
    "scrolled": true
   },
   "outputs": [
    {
     "name": "stdout",
     "output_type": "stream",
     "text": [
      "['F', 'o', 'n', 't', 'y', 's']\n"
     ]
    }
   ],
   "source": [
    "# Create a list of (1-character) strings from the string 'Fontys', try to do it using list comprehension\n",
    "# list('Fontys') getting an error on this line for some reason\n",
    "\n",
    "## Your code ...\n",
    "newlist = [l for l in 'Fontys']\n",
    "print(newlist)"
   ]
  },
  {
   "cell_type": "code",
   "execution_count": 164,
   "metadata": {},
   "outputs": [
    {
     "name": "stdout",
     "output_type": "stream",
     "text": [
      "[[], 'Fontys', ['Fontys', 1]]\n"
     ]
    }
   ],
   "source": [
    "# Create a list of the objects 1, [], 'Fontys', ['Fontys, 1]\n",
    "# [] means empty list\n",
    "\n",
    "## Your code ...\n",
    "list1 = [[], 'Fontys', ['Fontys', 1]]\n",
    "print(list1)"
   ]
  },
  {
   "cell_type": "code",
   "execution_count": 62,
   "metadata": {},
   "outputs": [
    {
     "name": "stdout",
     "output_type": "stream",
     "text": [
      "[0, 1, 2, 3, 4, 5, 6, 7, 8, 9, 10, 11, 12, 13, 14, 15, 16, 17, 18, 19, 20]\n"
     ]
    }
   ],
   "source": [
    "# Create a list for the integers between 0 and 20 ([0..20), or 0 <= n < 20)\n",
    "# Use the range() function, which is actually a type (immutable sequence) that can be iterated over.\n",
    "\n",
    "## Your code ...\n",
    "print([i for i in range(0,21)])\n",
    "    "
   ]
  },
  {
   "cell_type": "code",
   "execution_count": 63,
   "metadata": {},
   "outputs": [
    {
     "name": "stdout",
     "output_type": "stream",
     "text": [
      "[11, 12, 13, 14, 15, 16, 17, 18, 19, 20, 21]\n"
     ]
    }
   ],
   "source": [
    "# Create the integer list [11..21]\n",
    "\n",
    "## Your code ...\n",
    "print([i for i in range(11, 22)])"
   ]
  },
  {
   "cell_type": "code",
   "execution_count": 67,
   "metadata": {},
   "outputs": [
    {
     "name": "stdout",
     "output_type": "stream",
     "text": [
      "[90, 92, 94, 96, 98, 100]\n"
     ]
    }
   ],
   "source": [
    "# Create a list for all even integer numbers between 90 and 100.\n",
    "\n",
    "## Your code ...\n",
    "print([i for i in range(90,101) if i % 2 == 0])"
   ]
  },
  {
   "cell_type": "markdown",
   "metadata": {},
   "source": [
    "List comprehensions provide a concise way to create lists. Common applications are to make new lists where each element is the result of some operations applied to each member of another sequence or iterable, or to create a subsequence of those elements that satisfy a certain condition.\n",
    "\n",
    "For example, assume we want to create a list of squares, like:\n",
    "\n",
    "<pre>\n",
    ">>> squares = []\n",
    ">>> for x in range(10):\n",
    "...   squares.append(x**2)\n",
    "...\n",
    ">>> squares\n",
    "[0, 1, 4, 9, 16, 25, 36, 49, 64, 81]\n",
    "</pre>\n",
    "\n",
    "Note that this creates (or overwrites) a variable named x that still exists after the loop completes. We can calculate the list of squares without any side effects using:\n",
    "\n",
    "<pre>\n",
    "squares = [x**2 for x in range(10)]\n",
    "</pre>"
   ]
  },
  {
   "cell_type": "code",
   "execution_count": 69,
   "metadata": {},
   "outputs": [
    {
     "name": "stdout",
     "output_type": "stream",
     "text": [
      "[0, 3, 6, 9, 12, 15, 18, 21, 24, 27, 30, 33, 36, 39, 42, 45, 48, 51, 54, 57, 60, 63, 66, 69, 72, 75, 78, 81, 84, 87, 90, 93, 96, 99]\n"
     ]
    }
   ],
   "source": [
    "# Create a list of  all integers between 0 and 100 that can be divided by 3 and are uneven, try list comprehension\n",
    "\n",
    "## Your code ...\n",
    "print([i for i in range(0, 101) if i % 3 == 0 & i % 2 != 1])"
   ]
  },
  {
   "cell_type": "markdown",
   "metadata": {},
   "source": [
    "### List Indexing and Slicing"
   ]
  },
  {
   "cell_type": "code",
   "execution_count": null,
   "metadata": {
    "collapsed": true
   },
   "outputs": [],
   "source": [
    "# First some examples. Always remember:\n",
    "# - the list (sequence) is always traversed (processed) left to right\n",
    "# - the first index specifies the first item you want in your slice\n",
    "# - the second index specifies the first item you don’t want in your slice\n",
    "# - the third slice index is the stride length with which you step through the list to pick the elements of your slice\n",
    "\n",
    "print(1, [1,2,3,4][:])\n",
    "print(2, [1,2,3,4][1:])\n",
    "print(3, [1,2,3,4][:1])\n",
    "print(4, [1,2,3,4][:-1])\n",
    "print(5, [1,2,3,4][0:4])\n",
    "print(6, [1,2,3,4][1::-1])\n",
    "print(7, [1,2,3,4][1::-3])\n",
    "print(8, [1,2,3,4][::])         # often used to make a complete (shallow) copy of the list\n",
    "print(9, [1,2,3,4][::1])\n",
    "print(10, [1,2,3,4][::-1])      # often used to make a reversed copy of the list\n",
    "print(11, [1,2,3,4][0:4:-1])    # if stride is negative, start must be > end!!\n",
    "print(12, [1,2,3,4][4:0:-1])    # start > end"
   ]
  },
  {
   "cell_type": "code",
   "execution_count": 70,
   "metadata": {},
   "outputs": [
    {
     "name": "stdout",
     "output_type": "stream",
     "text": [
      "[1, 4]\n"
     ]
    }
   ],
   "source": [
    "# Get list [1,4] from list [1,2,3,4]\n",
    "\n",
    "## Your code ...\n",
    "print([1,2,3,4][::3])"
   ]
  },
  {
   "cell_type": "code",
   "execution_count": 233,
   "metadata": {},
   "outputs": [
    {
     "name": "stdout",
     "output_type": "stream",
     "text": [
      "[1, 3]\n",
      "[1, 7]\n"
     ]
    }
   ],
   "source": [
    "# Get first and last element of any list\n",
    "l = [1,2,3]\n",
    "l2 = [1,2,3,4,5,6,7]\n",
    "## Your code ...\n",
    "\n",
    "def first_and_last(l):\n",
    "    return l[0:len(l): len(l)-1]\n",
    "print(first_and_last(l))\n",
    "print(first_and_last(l2))"
   ]
  },
  {
   "cell_type": "markdown",
   "metadata": {},
   "source": [
    "### List and String"
   ]
  },
  {
   "cell_type": "code",
   "execution_count": 86,
   "metadata": {},
   "outputs": [
    {
     "name": "stdout",
     "output_type": "stream",
     "text": [
      "ads\n"
     ]
    }
   ],
   "source": [
    "# Create the string 'ads' from list ['a', 'd', 's']\n",
    "\n",
    "## Your code ...\n",
    "#first try\n",
    "s = ''\n",
    "for char in ['a', 'd', 's']:\n",
    "    s += char\n",
    "print(s)\n",
    "\n",
    "#After seeing .join\n",
    "print(''.join(['a', 'd', 's']))"
   ]
  },
  {
   "cell_type": "code",
   "execution_count": 81,
   "metadata": {
    "collapsed": true
   },
   "outputs": [],
   "source": [
    "# Why does str(['a', 'd', 's']) not work in previous exercise?\n",
    "\n",
    "#Literally converts it into a string instead of the items in the list"
   ]
  },
  {
   "cell_type": "code",
   "execution_count": 240,
   "metadata": {},
   "outputs": [
    {
     "name": "stdout",
     "output_type": "stream",
     "text": [
      "a d s\n"
     ]
    }
   ],
   "source": [
    "# Create the string 'a d s' from string 'ads'\n",
    "\n",
    "## Your code ...\n",
    "c = 'ads'\n",
    "r = ''\n",
    "i = 1\n",
    "for char in c:\n",
    "    if i != len(c):\n",
    "        r += char + ' '\n",
    "    else:\n",
    "        r += char\n",
    "    i += 1\n",
    "print(r)"
   ]
  },
  {
   "cell_type": "code",
   "execution_count": 85,
   "metadata": {},
   "outputs": [
    {
     "data": {
      "text/plain": [
       "'123'"
      ]
     },
     "execution_count": 85,
     "metadata": {},
     "output_type": "execute_result"
    }
   ],
   "source": [
    "# Create the string '123' from list [1,2,3]\n",
    "# Try: \"\".join([1,2,3]); why does it not work?   \n",
    "##\"\".join([1,2,3])\n",
    "#These are seen as intergers instead of characters/strings\n",
    "# Your code ...\n",
    "\"\".join([str(i) for i in [1,2,3]])"
   ]
  },
  {
   "cell_type": "code",
   "execution_count": 89,
   "metadata": {},
   "outputs": [
    {
     "name": "stdout",
     "output_type": "stream",
     "text": [
      "[1, 2, 3]\n"
     ]
    }
   ],
   "source": [
    "# Create the list [1,2,3] from string '123'\n",
    "\n",
    "## Your code ...\n",
    "print([int(i) for i in '123'])"
   ]
  },
  {
   "cell_type": "code",
   "execution_count": 90,
   "metadata": {},
   "outputs": [
    {
     "name": "stdout",
     "output_type": "stream",
     "text": [
      "['a', 'd', 's']\n"
     ]
    }
   ],
   "source": [
    "# Create the list ['a', 'd', 's'] from 'a d s' with split()\n",
    "\n",
    "## Your code ...\n",
    "print('a d s'.split(' '))"
   ]
  },
  {
   "cell_type": "markdown",
   "metadata": {},
   "source": [
    "## Tuple Exercises"
   ]
  },
  {
   "cell_type": "markdown",
   "metadata": {},
   "source": [
    "We saw that lists and strings have many common properties, such as indexing and slicing operations. They are two examples of sequence data types. One of them is the tuple.\n",
    "\n",
    "A tuple consists of a number of values separated by commas."
   ]
  },
  {
   "cell_type": "code",
   "execution_count": 97,
   "metadata": {},
   "outputs": [
    {
     "data": {
      "text/plain": [
       "[(1, 2), (3, 4)]"
      ]
     },
     "execution_count": 97,
     "metadata": {},
     "output_type": "execute_result"
    }
   ],
   "source": [
    "# Create the list of tuples [(1, 2), (3, 4)] from [1, 2, 3, 4]\n",
    "l = [1, 2, 3, 4]\n",
    "\n",
    "# the non-idiomatic way would be:\n",
    "l1 = []\n",
    "for i in range(0, len(l)-1, 2):\n",
    "    l1.append((l[i], l[i+1]))\n",
    "l1\n",
    "\n",
    "# Test what happens if l is the empty list, has 1, 2 or any uneven number of elements\n",
    "#Untill an even amount of elements is presented, it will not display it."
   ]
  },
  {
   "cell_type": "code",
   "execution_count": 3,
   "metadata": {},
   "outputs": [
    {
     "name": "stdout",
     "output_type": "stream",
     "text": [
      "[(1, 2), (3, 4)]\n"
     ]
    }
   ],
   "source": [
    "# Create the list of tuples the idiomatic way, using list comprehension\n",
    "# run your tests from previous exercise\n",
    "\n",
    "## Your code ...\n",
    "l = [1,2,3,4]\n",
    "print([(l[i], l[i+1]) for i in range(0, len(l)) if (i % 2 == 0) & ((i+1) < len(l))])\n",
    "#after some alterations it will now work properly."
   ]
  },
  {
   "cell_type": "code",
   "execution_count": 2,
   "metadata": {},
   "outputs": [
    {
     "name": "stdout",
     "output_type": "stream",
     "text": [
      "[(1, 2), (3, 4)]\n"
     ]
    }
   ],
   "source": [
    "# Now, create the same list of tuples using zip(), again run your tests\n",
    "## Your code ...\n",
    "l = [1,2,3,4]\n",
    "l1 = l[::2]\n",
    "l2 = l[1:len(l):2]\n",
    "l3 = list(zip(l1, l2))\n",
    "print(l3)"
   ]
  },
  {
   "cell_type": "code",
   "execution_count": 175,
   "metadata": {},
   "outputs": [
    {
     "name": "stdout",
     "output_type": "stream",
     "text": [
      "[1, 2, 3, 4]\n"
     ]
    }
   ],
   "source": [
    "# Flatten the list of tuples [(1, 2), (3, 4)] to [1, 2, 3, 4]\n",
    "lt = [(1, 2), (3, 4)]\n",
    "\n",
    "## Your code with a loop\n",
    "l = []\n",
    "for item in lt:\n",
    "    for item2 in item:\n",
    "            l.append(item2)\n",
    "print(l)"
   ]
  },
  {
   "cell_type": "code",
   "execution_count": 252,
   "metadata": {},
   "outputs": [
    {
     "name": "stdout",
     "output_type": "stream",
     "text": [
      "[1, 2, 3, 4]\n"
     ]
    }
   ],
   "source": [
    "## Your code with list comprehension\n",
    "lt = [(1, 2), (3, 4)]\n",
    "print([item3 for item in lt for item3 in item])"
   ]
  },
  {
   "cell_type": "code",
   "execution_count": 190,
   "metadata": {
    "scrolled": true
   },
   "outputs": [
    {
     "name": "stdout",
     "output_type": "stream",
     "text": [
      "(1, 2, 3, 4)\n"
     ]
    }
   ],
   "source": [
    "# Explain (by consulting the ref manual) why this also works\n",
    "lt = [(1, 2), (3, 4)]\n",
    "list(sum(lt, ()))\n",
    "#This adds the tuple value with an empty tuple, serperating the values into a new bigger tuple.\n",
    "#The list just makes it one big list instead of a tuple"
   ]
  },
  {
   "cell_type": "code",
   "execution_count": 183,
   "metadata": {},
   "outputs": [
    {
     "name": "stdout",
     "output_type": "stream",
     "text": [
      "10\n"
     ]
    }
   ],
   "source": [
    "# Now for an interesting strecht of mind: use only sum() to sum all numbers in lt\n",
    "lt = [(1, 2), (3, 4)]\n",
    "\n",
    "## Your code ...\n",
    "print(sum(list(sum(lt, ()))))"
   ]
  },
  {
   "cell_type": "markdown",
   "metadata": {},
   "source": [
    "## List as Matrix Exercises "
   ]
  },
  {
   "cell_type": "code",
   "execution_count": null,
   "metadata": {
    "collapsed": true
   },
   "outputs": [],
   "source": [
    "# A matrix constructed from lists is a list of lists"
   ]
  },
  {
   "cell_type": "code",
   "execution_count": 253,
   "metadata": {},
   "outputs": [
    {
     "name": "stdout",
     "output_type": "stream",
     "text": [
      "[[6, 'P'], [4, 'F'], [7, 'P']]\n"
     ]
    }
   ],
   "source": [
    "# Add a P(ass), F(ail) mark to a list of numeric marks\n",
    "# transform [6,4,7] into the matrix [[6,'P'], [4,'F'], [7,'P']]\n",
    "\n",
    "marks = [6, 4, 7]\n",
    "\n",
    "## Your code with a for loop ...\n",
    "textmarks = []\n",
    "result = ''\n",
    "for mark in marks:\n",
    "     if (mark > 5.5) : result = 'P'  \n",
    "     else : result = 'F'\n",
    "     textmarks.append([mark, result])\n",
    "print(textmarks)"
   ]
  },
  {
   "cell_type": "code",
   "execution_count": 196,
   "metadata": {},
   "outputs": [
    {
     "name": "stdout",
     "output_type": "stream",
     "text": [
      "[[6, 'P'], [4, 'F'], [7, 'P']]\n"
     ]
    }
   ],
   "source": [
    "## Your code with list comprehension (more idiomatic)\n",
    "marks = [6,4,7]\n",
    "textmarks = [[mark, 'P'] if (mark > 5) else [mark, 'F'] for mark in marks ]\n",
    "print(textmarks)"
   ]
  },
  {
   "cell_type": "code",
   "execution_count": 260,
   "metadata": {},
   "outputs": [
    {
     "name": "stdout",
     "output_type": "stream",
     "text": [
      "[[1, 4], [2, 5], [3, 6]]\n"
     ]
    }
   ],
   "source": [
    "# ** Optionally **\n",
    "# Transpose the 2 x 3 matrix [[1,2,3], [4,5,6]] to the 3 x 2 matrix [[1,4], [2,5], [3,6]]\n",
    "# Generalize to transposing n x m matrix to m x n matrix; a straightforward list traversal solution\n",
    "# would be nested for loops\n",
    "mx = [[1,2,3], [4,5,6]]\n",
    "\n",
    "## Your code ...\n",
    "\n",
    "ls = []\n",
    "for i in range(0,len(mx[0])):\n",
    "      ls.append([mx[0][i], mx[1][i]])  \n",
    "print(ls)"
   ]
  },
  {
   "cell_type": "code",
   "execution_count": 267,
   "metadata": {},
   "outputs": [
    {
     "name": "stdout",
     "output_type": "stream",
     "text": [
      "[[1, 4], [2, 5], [3, 6]]\n"
     ]
    }
   ],
   "source": [
    "# ** Optionally **\n",
    "# We can morph this nested for loop solution into the more idiomatic (pythonic) nested list comprehension solution\n",
    "\n",
    "## Your code ...\n",
    "print(list([mx[0][i], mx[1][i]] for i in range(0, len(mx[0]))))"
   ]
  },
  {
   "cell_type": "code",
   "execution_count": 314,
   "metadata": {},
   "outputs": [
    {
     "name": "stdout",
     "output_type": "stream",
     "text": [
      "[[1, 4], [2, 5], [3, 6]]\n"
     ]
    }
   ],
   "source": [
    "# ** Optionally **\n",
    "# The seasoned python pro will probably use zip and the unary unpack (*) operator (https://goo.gl/bHWS2S)\n",
    "# on top of that: the zip() solution is faster\n",
    "\n",
    "## Your code ...\n",
    "ls = [[value1, value2] for value1, value2 in list((zip(mx[0], mx[1])))]\n",
    "print(ls)"
   ]
  },
  {
   "cell_type": "code",
   "execution_count": 205,
   "metadata": {},
   "outputs": [
    {
     "name": "stdout",
     "output_type": "stream",
     "text": [
      "[[1 2 3]\n",
      " [4 5 6]]\n"
     ]
    },
    {
     "data": {
      "text/plain": [
       "array([[1, 4],\n",
       "       [2, 5],\n",
       "       [3, 6]])"
      ]
     },
     "execution_count": 205,
     "metadata": {},
     "output_type": "execute_result"
    }
   ],
   "source": [
    "# Sneak preview for next week, the easy way with numpy!!\n",
    "import numpy as np\n",
    "a = np.array([[1,2,3], [4,5,6]])\n",
    "print(a)\n",
    "a.transpose()      # a.T also works!"
   ]
  },
  {
   "cell_type": "code",
   "execution_count": 209,
   "metadata": {},
   "outputs": [
    {
     "name": "stdout",
     "output_type": "stream",
     "text": [
      "[[1 2 3]\n",
      " [0 0 2]]\n"
     ]
    },
    {
     "data": {
      "text/plain": [
       "array([[1, 0],\n",
       "       [2, 0],\n",
       "       [3, 2]])"
      ]
     },
     "execution_count": 209,
     "metadata": {},
     "output_type": "execute_result"
    }
   ],
   "source": [
    "# Create the matrix [[1,0],[2,0],[3,2]] by merging the lists [1,2,3] and ['O', 'O', 'G'], where each character is \n",
    "# mapped to its position in the lookup list ['O', 'V', 'G']\n",
    "# Tip: use the index() method to determine the position of a value in a sequence\n",
    "\n",
    "## Your code ...\n",
    "import numpy as np\n",
    "l2 = ['O', 'O', 'G']\n",
    "ll = ['O', 'V', 'G']\n",
    "a = np.array([l1, [ll.index(char) for char in l2]])\n",
    "print(a)\n",
    "a.transpose()"
   ]
  },
  {
   "cell_type": "markdown",
   "metadata": {},
   "source": [
    "## Dictionary Exercises"
   ]
  },
  {
   "cell_type": "code",
   "execution_count": null,
   "metadata": {
    "collapsed": true
   },
   "outputs": [],
   "source": [
    "# You all know dictionaries (associative arrays) from C#, Java, PHP; here is how you define them in Python\n",
    "d = {'k1': [1], 'k2': [2], 'k3': [3]}\n",
    "d['k2'] = 3\n",
    "d['k4'] = [4]\n",
    "d"
   ]
  },
  {
   "cell_type": "code",
   "execution_count": 283,
   "metadata": {},
   "outputs": [
    {
     "data": {
      "text/plain": [
       "{'k1': [1], 'k2': [2], 'k3': [3]}"
      ]
     },
     "execution_count": 283,
     "metadata": {},
     "output_type": "execute_result"
    }
   ],
   "source": [
    "# Or:\n",
    "keys = ['k1','k2','k3']\n",
    "values = [[1],[2],[3]]\n",
    "dict(zip(keys, values))    # zip() returns iterable of tuples that can be converted into dictionary"
   ]
  },
  {
   "cell_type": "code",
   "execution_count": 211,
   "metadata": {},
   "outputs": [
    {
     "name": "stdout",
     "output_type": "stream",
     "text": [
      "{'k1': [1], 'k2': [2], 'k3': [3]}\n"
     ]
    }
   ],
   "source": [
    "# Or, using dict comprehension\n",
    "# You might be tempted to do {k: v for k in keys for v in values}\n",
    "# Why doesn't this work?\n",
    "# Create the correct version\n",
    "\n",
    "## Your code ...\n",
    "keys = ['k1','k2','k3']\n",
    "values = [[1],[2],[3]]\n",
    "zipped = zip(keys, values)\n",
    "d = {key: value for (key, value) in zipped}\n",
    "print(d)"
   ]
  },
  {
   "cell_type": "code",
   "execution_count": 229,
   "metadata": {},
   "outputs": [
    {
     "data": {
      "text/plain": [
       "True"
      ]
     },
     "execution_count": 229,
     "metadata": {},
     "output_type": "execute_result"
    }
   ],
   "source": [
    "# Create a Python function that returns a word count dictionary for a piece of text\n",
    "# e.g. count_words(\"This and this and this also\") == {'this': 3, 'and': 2, 'also': 1}\n",
    "\n",
    "## Your code ...\n",
    "\n",
    "def count_words(s):\n",
    "    d = dict()\n",
    "    s = s.lower()\n",
    "    e = s.split(' ')\n",
    "    for word in e:\n",
    "        d[word] = d.get(word, 0) + 1\n",
    "    return d\n",
    "count_words(\"This and this and this also\") == {'this': 3, 'and': 2, 'also': 1}"
   ]
  }
 ],
 "metadata": {
  "kernelspec": {
   "display_name": "Python 3",
   "language": "python",
   "name": "python3"
  },
  "language_info": {
   "codemirror_mode": {
    "name": "ipython",
    "version": 3
   },
   "file_extension": ".py",
   "mimetype": "text/x-python",
   "name": "python",
   "nbconvert_exporter": "python",
   "pygments_lexer": "ipython3",
   "version": "3.6.1"
  }
 },
 "nbformat": 4,
 "nbformat_minor": 1
}
