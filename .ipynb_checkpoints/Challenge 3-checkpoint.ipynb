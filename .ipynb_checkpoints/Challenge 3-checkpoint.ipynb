{
 "cells": [
  {
   "cell_type": "markdown",
   "metadata": {},
   "source": [
    "# Challenge 3\n",
    "\n",
    "### The task\n",
    "For challenge 3 we are tasked to compare machine learning algorithms and see which ever one is best. Within this notebook we are going to be trying out; SVM, MLP, Random Forest, Ensemble Learning and Neural networks.\n",
    "\n",
    "### Optimizing the algorithms\n",
    "For each algorithm we will be trying to find the best possible options to get the best result out of each algorithm."
   ]
  },
  {
   "cell_type": "markdown",
   "metadata": {},
   "source": [
    "# The dataset\n",
    "The dataset I picked for this assignment was ***DATASET HERE*** It mostly peaked my personal interest and seemed easy enough to work with. I found this dataset on *Keggle* and [***the this is the link to the dataset***](http://google.com).\n",
    "The domain of this dataset is ***DOMAIN*** because..."
   ]
  },
  {
   "cell_type": "markdown",
   "metadata": {},
   "source": [
    "# Prepairing the notebook\n",
    "### Importing libraries"
   ]
  },
  {
   "cell_type": "code",
   "execution_count": 10,
   "metadata": {},
   "outputs": [
    {
     "name": "stdout",
     "output_type": "stream",
     "text": [
      "NumPy version: 1.12.1\n",
      "Pandas version: 0.20.1\n",
      "Scikit-learn version: 0.18.1\n",
      "Matplotlib version: 2.0.2\n"
     ]
    }
   ],
   "source": [
    "import numpy as np\n",
    "import pandas as pd\n",
    "import sklearn as sk\n",
    "import matplotlib\n",
    "import matplotlib.pyplot as plt\n",
    "print('NumPy version:', np.__version__)\n",
    "print('Pandas version:', pd.__version__)\n",
    "print('Scikit-learn version:', sk.__version__)\n",
    "print('Matplotlib version:', matplotlib.__version__)\n",
    "%matplotlib inline"
   ]
  },
  {
   "cell_type": "markdown",
   "metadata": {},
   "source": [
    "# Exploring the dataset\n",
    "### Boxplots\n",
    "To analyze our features we want to look at the features and see how they compare. What features are good to use and where do we see the least amount of overlap. To make this easier on ourselves, we are going to write an automated method to do this work. We can just make a list of features and run these through the method and out come all the boxplots."
   ]
  },
  {
   "cell_type": "code",
   "execution_count": 120,
   "metadata": {},
   "outputs": [],
   "source": [
    "def boxPlots(df, features, label):\n",
    "    if(len(features)>4):\n",
    "        for i in range(int(len(features)/4)+1):\n",
    "            try:\n",
    "                df.boxplot(column=features[4*i:4*(i+1)], by=label, figsize=(15,8), layout=(1,4))\n",
    "            except:\n",
    "                try:\n",
    "                    df.boxplot(column=features[4*i], by=label, figsize=(15,8), layout=(1,4))\n",
    "                    df.boxplot(column=features[4*i+1], by=label, figsize=(15,8), layout=(1,4))\n",
    "                    df.boxplot(column=features[4*i+2], by=label, figsize=(15,8), layout=(1,4))\n",
    "                    df.boxplot(column=features[4*i+3], by=label, figsize=(15,8), layout=(1,4))\n",
    "                except:\n",
    "                    df = df #Index is out of range but needs code to not go further\n",
    "    else:\n",
    "        df.boxplot(column=features, by=label, figsize=(15,8), layout=(1,4))\n",
    "#         maximums = []\n",
    "#         for i in range(len(features)):\n",
    "#             maximums.append(max(df[features[i]]))\n",
    "#         for i in range(int(len(features)/4)+1):\n",
    "#             seperate=False\n",
    "#             seperateindex = 0\n",
    "#             beginindex = 4*i\n",
    "#             endindex= 4*(i+1)\n",
    "#             equalizer = 5\n",
    "#             plotted = features[beginindex:endindex]\n",
    "#             try:\n",
    "#                 for q in range(4):\n",
    "#                     if(int(maximums[beginindex+q]/maximums[beginindex]) > equalizer) or (int(maximums[beginindex+q]/maximums[beginindex+1]) > equalizer) or(int(maximums[beginindex+q]/maximums[beginindex+2]) > equalizer) or (int(maximums[beginindex+q]/maximums[beginindex+3]) > equalizer):\n",
    "#                         seperate = True\n",
    "#                         seperateindex = q\n",
    "#             except:\n",
    "#                 seperate = True \n",
    "#             if(seperate == False):\n",
    "#                 df.boxplot(column=plotted, by=label, figsize=(15,8), layout=(1,4))\n",
    "#             else:\n",
    "#                 rest = plotted[beginindex:seperateindex] + plotted[seperateindex+1:endindex]\n",
    "#                 print(\"Index: \" + str(seperateindex))\n",
    "#                 print(len(plotted[beginindex:seperateindex]))\n",
    "#                 print(len(plotted[seperateindex+1:endindex]))\n",
    "#                 print(len(rest))\n",
    "#                 df.boxplot(column=plotted[seperateindex], by=label, figsize=(15,8), layout=(1,4))\n",
    "#                 df.boxplot(column=rest, by=label, figsize=(15,8), layout=(1,4))"
   ]
  },
  {
   "cell_type": "markdown",
   "metadata": {},
   "source": [
    "# Explaination\n",
    "### Defining the method\n",
    "To start off, we give the method the name `boxPlots` it is descriptive enough for me and easy to type.\n",
    "#### The parameters\n",
    "    - df:       The dataframe used to visualize the features\n",
    "    - features: A Tuple of the features wanting to be analysed\n",
    "    - label:    The string of which column is the label\n",
    "```py\n",
    "def boxPlots(df, features, label):\n",
    "```\n",
    "### Checking the amount of features present\n",
    "If we have more than 4 features we want to split them up in to multiple sets of 4. This is why we do an initial check to see if we have more than 4 features.\n",
    "```py\n",
    "if(len(features)>4):\n",
    "```\n",
    "### Printing the boxplots by 4\n",
    "If there are more features than 4 we want to split these into groups of 4 and print them seperately.\n",
    "First, we make a loop by deviding the amount of features by 4 and adding 1. The `int()` method **ALWAYS** rounds downwards and this is not good for us as the last features will be cut off. This is the reason we add 1.\n",
    "Second, we want to try plotting all 4 figures at once, if this fails it is most likely an index out of range exception. To make sure all boxplots get plotted we then again implement a try in the catch to plot every single boxplot after one another.\n",
    "This isn't the most clean way to do it but it works.\n",
    "```py\n",
    "        for i in range(int(len(features)/4)+1):\n",
    "            try:\n",
    "                df.boxplot(column=features[4*i:4*(i+1)], by=label, figsize=(15,8), layout=(1,4))\n",
    "            except:\n",
    "                try:\n",
    "                    df.boxplot(column=features[4*i], by=label, figsize=(15,8), layout=(1,4))\n",
    "                    df.boxplot(column=features[4*i+1], by=label, figsize=(15,8), layout=(1,4))\n",
    "                    df.boxplot(column=features[4*i+2], by=label, figsize=(15,8), layout=(1,4))\n",
    "                    df.boxplot(column=features[4*i+3], by=label, figsize=(15,8), layout=(1,4))\n",
    "                except:\n",
    "                    df = df #Index is out of range but needs code to not go further\n",
    "                    ```"
   ]
  },
  {
   "cell_type": "code",
   "execution_count": 123,
   "metadata": {
    "collapsed": true
   },
   "outputs": [],
   "source": [
    "from sklearn.feature_selection import SelectKBest, f_classif\n",
    "def findKBestFeatures(df, features, label):\n",
    "    selector = SelectKBest(f_classif, k=5)\n",
    "    selector.fit(df[features], df[label])\n",
    "    scores = -np.log10(selector.pvalues_)\n",
    "    plt.bar(range(len(predictors)), scores)\n",
    "    plt.xticks(range(lenpredictors), predictors, rotation=\"vertical\")\n",
    "    plt.show()"
   ]
  },
  {
   "cell_type": "code",
   "execution_count": null,
   "metadata": {
    "collapsed": true
   },
   "outputs": [],
   "source": [
    "from sklearn.svm import SVC"
   ]
  }
 ],
 "metadata": {
  "kernelspec": {
   "display_name": "Python 3",
   "language": "python",
   "name": "python3"
  },
  "language_info": {
   "codemirror_mode": {
    "name": "ipython",
    "version": 3
   },
   "file_extension": ".py",
   "mimetype": "text/x-python",
   "name": "python",
   "nbconvert_exporter": "python",
   "pygments_lexer": "ipython3",
   "version": "3.6.1"
  }
 },
 "nbformat": 4,
 "nbformat_minor": 2
}
